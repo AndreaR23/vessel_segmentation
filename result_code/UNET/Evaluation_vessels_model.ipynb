{
 "cells": [
  {
   "cell_type": "code",
   "execution_count": 1,
   "metadata": {},
   "outputs": [
    {
     "name": "stderr",
     "output_type": "stream",
     "text": [
      "Using TensorFlow backend.\n",
      "/usr/local/lib/python3.5/dist-packages/classification_models/resnext/__init__.py:4: UserWarning: Current ResNext models are deprecated, use keras.applications ResNeXt models\n",
      "  warnings.warn('Current ResNext models are deprecated, '\n"
     ]
    }
   ],
   "source": [
    "from unet_project.vessels_functions import load_model, predict_images\n",
    "from unet_project.image_utils import ImageUtils\n",
    "import os  \n",
    "import random\n",
    "import cv2\n",
    "import numpy as np\n",
    "from matplotlib import pyplot as plt\n",
    "from segmentation_models.backbones import get_preprocessing\n",
    "from keras import backend as K"
   ]
  },
  {
   "cell_type": "code",
   "execution_count": 2,
   "metadata": {},
   "outputs": [],
   "source": [
    "#!pip3 install pymia"
   ]
  },
  {
   "cell_type": "code",
   "execution_count": 3,
   "metadata": {},
   "outputs": [],
   "source": [
    "val_frame_path = '/mnt/data/aja/diplomka/custom_train/val_imgs/val'\n",
    "val_mask_path = '/mnt/data/aja/diplomka/custom_train/val_masks/val'\n",
    "img_height = 512\n",
    "img_width = 512\n",
    "\n",
    "image_ut = ImageUtils(val_frame_path, val_mask_path, img_height, img_width, architecture='unet')"
   ]
  },
  {
   "cell_type": "code",
   "execution_count": 4,
   "metadata": {},
   "outputs": [],
   "source": [
    "from scipy.signal import medfilt2d\n",
    "from skimage import data, color\n",
    "from skimage import measure"
   ]
  },
  {
   "cell_type": "code",
   "execution_count": null,
   "metadata": {},
   "outputs": [],
   "source": []
  },
  {
   "cell_type": "code",
   "execution_count": null,
   "metadata": {},
   "outputs": [],
   "source": []
  },
  {
   "cell_type": "code",
   "execution_count": 5,
   "metadata": {},
   "outputs": [
    {
     "name": "stdout",
     "output_type": "stream",
     "text": [
      "Loaded model from disk\n",
      "Loaded model from disk\n"
     ]
    }
   ],
   "source": [
    "linknet_resnet_150 =  load_model('model_linknet_vessels_pretrainedRESNET18_150noeqa')\n",
    "\n",
    "unet_resnet18_150 =  load_model('model_unet_vessels_pretrainedRESNET18_150noeqa')"
   ]
  },
  {
   "cell_type": "code",
   "execution_count": 6,
   "metadata": {},
   "outputs": [],
   "source": [
    "imgs_linknet_resnet_150, masks_linknet_resnet_150, predicted_imgs_linknet_resnet_150 = predict_images(backbone='resnet18', \n",
    "                                                                                      val_frame_path=val_frame_path,\n",
    "                                                                                      val_mask_path=val_mask_path,\n",
    "                                                                                      img_height=img_height,\n",
    "                                                                                      img_width=img_width,\n",
    "                                                                                      model=linknet_resnet_150,\n",
    "                                                                                      preprocess=True)\n",
    "imgs_unet_resnet18_150, masks_unet_resnet18_150, predicted_imgs_unet_resnet18_150 = predict_images(backbone='resnet18', \n",
    "                                                                                      val_frame_path=val_frame_path,\n",
    "                                                                                      val_mask_path=val_mask_path,\n",
    "                                                                                      img_height=img_height,\n",
    "                                                                                      img_width=img_width,\n",
    "                                                                                      model=unet_resnet18_150,\n",
    "                                                                                      preprocess=True)"
   ]
  },
  {
   "cell_type": "code",
   "execution_count": null,
   "metadata": {},
   "outputs": [],
   "source": []
  },
  {
   "cell_type": "code",
   "execution_count": 7,
   "metadata": {},
   "outputs": [],
   "source": [
    "def tresholding(imgs, treshold):\n",
    "    for m in imgs:\n",
    "        m[m>treshold]=1\n",
    "        m[m<=treshold]=0\n",
    "    return imgs\n",
    "\n",
    "def sensitivity(y_true, y_pred):\n",
    "    true_positives = np.sum(np.round(np.clip(y_true * y_pred, 0, 1)))\n",
    "    possible_positives = np.sum(np.round(np.clip(y_true, 0, 1)))\n",
    "    return true_positives / (possible_positives + K.epsilon())\n",
    "\n",
    "def specificity(y_true, y_pred):\n",
    "    true_negatives = np.sum(np.round(np.clip((1-y_true) * (1-y_pred), 0, 1)))\n",
    "    possible_negatives = np.sum(np.round(np.clip(1-y_true, 0, 1)))\n",
    "    return true_negatives / (possible_negatives + K.epsilon())\n",
    "\n",
    "def dice_coef(y_true, y_pred, smooth=1):\n",
    "    intersection = np.sum(np.abs(y_true * y_pred), axis=-1)\n",
    "    return np.mean((2. * intersection + smooth) / (np.sum(np.square(y_true),-1) + np.sum(np.square(y_pred),-1) + smooth))"
   ]
  },
  {
   "cell_type": "markdown",
   "metadata": {},
   "source": [
    "## Linknet"
   ]
  },
  {
   "cell_type": "code",
   "execution_count": 8,
   "metadata": {},
   "outputs": [],
   "source": [
    "masks_linknet_resnet_150 = tresholding(masks_linknet_resnet_150, 0.02)\n",
    "predicted_imgs_linknet_resnet_150 = tresholding(predicted_imgs_linknet_resnet_150, 0.02)\n",
    "predicted_imgs_linknet_resnet_150 = np.squeeze(np.squeeze(np.array(predicted_imgs_linknet_resnet_150)))"
   ]
  },
  {
   "cell_type": "code",
   "execution_count": 9,
   "metadata": {},
   "outputs": [],
   "source": [
    "Sens = sensitivity(np.array(masks_linknet_resnet_150), np.array(predicted_imgs_linknet_resnet_150))\n",
    "Spec = specificity(np.array(masks_linknet_resnet_150), np.array(predicted_imgs_linknet_resnet_150))\n",
    "Dice = dice_coef(np.array(masks_linknet_resnet_150), np.array(predicted_imgs_linknet_resnet_150))"
   ]
  },
  {
   "cell_type": "code",
   "execution_count": 10,
   "metadata": {},
   "outputs": [
    {
     "name": "stdout",
     "output_type": "stream",
     "text": [
      "LinkNet sensitivity: 0.9249141592567922\n",
      "LinkNet specifity: 0.8613708365789432\n",
      "LinkNet dice coefficient: 0.6820310672711453\n"
     ]
    }
   ],
   "source": [
    "print('LinkNet sensitivity: {}'. format(Sens))\n",
    "print('LinkNet specifity: {}'. format(Spec))\n",
    "print('LinkNet dice coefficient: {}'. format(Dice))"
   ]
  },
  {
   "cell_type": "markdown",
   "metadata": {},
   "source": [
    "## Unet"
   ]
  },
  {
   "cell_type": "code",
   "execution_count": 11,
   "metadata": {},
   "outputs": [],
   "source": [
    "masks_unet_resnet18_150 = tresholding(masks_unet_resnet18_150, 0.02)\n",
    "predicted_imgs_unet_resnet18_150 = tresholding(predicted_imgs_unet_resnet18_150, 0.02)\n",
    "predicted_imgs_unet_resnet18_150 = np.squeeze(np.squeeze(np.array(predicted_imgs_unet_resnet18_150)))"
   ]
  },
  {
   "cell_type": "code",
   "execution_count": 12,
   "metadata": {},
   "outputs": [],
   "source": [
    "Sens = sensitivity(np.array(masks_unet_resnet18_150), np.array(predicted_imgs_unet_resnet18_150))\n",
    "Spec = specificity(np.array(masks_unet_resnet18_150), np.array(predicted_imgs_unet_resnet18_150))\n",
    "Dice = dice_coef(np.array(masks_unet_resnet18_150), np.array(predicted_imgs_unet_resnet18_150))"
   ]
  },
  {
   "cell_type": "code",
   "execution_count": 13,
   "metadata": {},
   "outputs": [
    {
     "name": "stdout",
     "output_type": "stream",
     "text": [
      "Unet sensitivity: 0.9090217422031653\n",
      "Unet specifity: 0.8858327758713873\n",
      "Unet dice coefficient: 0.7157163632682361\n"
     ]
    }
   ],
   "source": [
    "print('Unet sensitivity: {}'. format(Sens))\n",
    "print('Unet specifity: {}'. format(Spec))\n",
    "print('Unet dice coefficient: {}'. format(Dice))"
   ]
  }
 ],
 "metadata": {
  "kernelspec": {
   "display_name": "Python 3",
   "language": "python",
   "name": "python3"
  },
  "language_info": {
   "codemirror_mode": {
    "name": "ipython",
    "version": 3
   },
   "file_extension": ".py",
   "mimetype": "text/x-python",
   "name": "python",
   "nbconvert_exporter": "python",
   "pygments_lexer": "ipython3",
   "version": "3.5.2"
  }
 },
 "nbformat": 4,
 "nbformat_minor": 2
}
