{
 "cells": [
  {
   "cell_type": "markdown",
   "metadata": {},
   "source": [
    "# Evaluation different models and parameters for disk segmentation"
   ]
  },
  {
   "cell_type": "code",
   "execution_count": 6,
   "metadata": {},
   "outputs": [],
   "source": [
    "import sys\n",
    "sys.path.append('..')"
   ]
  },
  {
   "cell_type": "code",
   "execution_count": 7,
   "metadata": {},
   "outputs": [],
   "source": [
    "import os  \n",
    "import random\n",
    "import cv2\n",
    "import numpy as np\n",
    "from matplotlib import pyplot as plt\n",
    "from segmentation_models.backbones import get_preprocessing\n",
    "from keras import backend as K\n",
    "\n",
    "from classes.model_utils import ModelUtils\n",
    "from classes.image_utils import ImageUtils\n",
    "from classes.process_results import ProcessResults\n",
    "from classes.metrics import Metrics"
   ]
  },
  {
   "cell_type": "markdown",
   "metadata": {},
   "source": [
    "## Initialize"
   ]
  },
  {
   "cell_type": "code",
   "execution_count": 8,
   "metadata": {},
   "outputs": [],
   "source": [
    "val_frame_path = '/home/andrea/learning/vessel_segmentation/disk/val_imgs/val'\n",
    "val_mask_path = '/home/andrea/learning/vessel_segmentation/disk/val_masks/val'\n",
    "img_height = 768\n",
    "img_width = 768\n",
    "\n",
    "image_ut = ImageUtils(val_frame_path, val_mask_path, img_height, img_width, architecture='unet')"
   ]
  },
  {
   "cell_type": "markdown",
   "metadata": {},
   "source": [
    "## Load models"
   ]
  },
  {
   "cell_type": "code",
   "execution_count": 9,
   "metadata": {},
   "outputs": [],
   "source": [
    "prefix = '/home/andrea/learning/vessel_segmentation/result_code/UNET/models/'"
   ]
  },
  {
   "cell_type": "markdown",
   "metadata": {},
   "source": [
    "# UNET"
   ]
  },
  {
   "cell_type": "code",
   "execution_count": 10,
   "metadata": {},
   "outputs": [
    {
     "name": "stdout",
     "output_type": "stream",
     "text": [
      "WARNING:tensorflow:From /home/andrea/env/diplomka3/lib/python3.6/site-packages/tensorflow/python/framework/op_def_library.py:263: colocate_with (from tensorflow.python.framework.ops) is deprecated and will be removed in a future version.\n",
      "Instructions for updating:\n",
      "Colocations handled automatically by placer.\n",
      "Loaded model from disk\n",
      "Loaded model from disk\n",
      "Loaded model from disk\n"
     ]
    }
   ],
   "source": [
    "unet100 = ModelUtils.load_model(os.path.join(prefix, 'model_unet_disk_pretrainedRESNET18_100noeqa'))\n",
    "unet150 = ModelUtils.load_model(os.path.join(prefix, 'model_unet_disk_pretrainedRESNET18_150noeqa'))\n",
    "unet200 = ModelUtils.load_model(os.path.join(prefix, 'model_unet_disk_pretrainedRESNET18_200noeqa'))"
   ]
  },
  {
   "cell_type": "markdown",
   "metadata": {},
   "source": [
    "## 200"
   ]
  },
  {
   "cell_type": "code",
   "execution_count": 11,
   "metadata": {},
   "outputs": [],
   "source": [
    "process_results_unet200 = ProcessResults()\n",
    "\n",
    "process_results_unet200.predict_images_from_dir(backbone='resnet18', \n",
    "                                                val_frame_path=val_frame_path,\n",
    "                                                val_mask_path=val_mask_path,\n",
    "                                                img_height=img_height,\n",
    "                                                img_width=img_width,\n",
    "                                                model=unet200,\n",
    "                                                preprocess=True)"
   ]
  },
  {
   "cell_type": "code",
   "execution_count": 12,
   "metadata": {},
   "outputs": [],
   "source": [
    "masks_unet200 = [process_results_unet200.tresholding(x) for x in process_results_unet200._masks]\n",
    "\n",
    "filtered_images_unet200 = []\n",
    "for im in process_results_unet200._predicted_imgs:\n",
    "    filt_img = process_results_unet200.med_ext_med_filter(im)\n",
    "    filtered_images_unet200.append(np.squeeze(process_results_unet200.tresholding(filt_img)))"
   ]
  },
  {
   "cell_type": "code",
   "execution_count": 13,
   "metadata": {},
   "outputs": [],
   "source": [
    "sensitivity_unet200 = Metrics.sensitivity(np.array(masks_unet200), np.array(filtered_images_unet200))\n",
    "specifity_unet200 = Metrics.specificity(np.array(masks_unet200), np.array(filtered_images_unet200))\n",
    "dice_unet200 = Metrics.dice_coef(np.array(masks_unet200), np.array(filtered_images_unet200))"
   ]
  },
  {
   "cell_type": "code",
   "execution_count": 14,
   "metadata": {},
   "outputs": [
    {
     "name": "stdout",
     "output_type": "stream",
     "text": [
      "UNET 200 epochs sensitivity: 0.8074244364040742\n",
      "UNET 200 epochs specifity: 0.9836996641392513\n",
      "UNET 200 epochsdice coefficient: 0.8591134040859238\n"
     ]
    }
   ],
   "source": [
    "print('UNET 200 epochs sensitivity: {}'. format(sensitivity_unet200))\n",
    "print('UNET 200 epochs specifity: {}'. format(specifity_unet200))\n",
    "print('UNET 200 epochsdice coefficient: {}'. format(np.mean(dice_unet200)))"
   ]
  },
  {
   "cell_type": "markdown",
   "metadata": {},
   "source": [
    "## 150"
   ]
  },
  {
   "cell_type": "code",
   "execution_count": 15,
   "metadata": {},
   "outputs": [],
   "source": [
    "process_results_unet150 = ProcessResults()\n",
    "\n",
    "process_results_unet150.predict_images_from_dir(backbone='resnet18', \n",
    "                                                val_frame_path=val_frame_path,\n",
    "                                                val_mask_path=val_mask_path,\n",
    "                                                img_height=img_height,\n",
    "                                                img_width=img_width,\n",
    "                                                model=unet150,\n",
    "                                                preprocess=True)"
   ]
  },
  {
   "cell_type": "code",
   "execution_count": 16,
   "metadata": {},
   "outputs": [],
   "source": [
    "masks_unet150 = [process_results_unet150.tresholding(x) for x in process_results_unet150._masks]\n",
    "\n",
    "filtered_images_unet150 = []\n",
    "for im in process_results_unet150._predicted_imgs:\n",
    "    filt_img = process_results_unet150.med_ext_med_filter(im)\n",
    "    filtered_images_unet150.append(np.squeeze(process_results_unet150.tresholding(filt_img)))"
   ]
  },
  {
   "cell_type": "code",
   "execution_count": 17,
   "metadata": {},
   "outputs": [],
   "source": [
    "sensitivity_unet150 = Metrics.sensitivity(np.array(masks_unet150), np.array(filtered_images_unet150))\n",
    "specifity_unet150 = Metrics.specificity(np.array(masks_unet150), np.array(filtered_images_unet150))\n",
    "dice_unet150 = Metrics.dice_coef(np.array(masks_unet150), np.array(filtered_images_unet150))"
   ]
  },
  {
   "cell_type": "code",
   "execution_count": 18,
   "metadata": {},
   "outputs": [
    {
     "name": "stdout",
     "output_type": "stream",
     "text": [
      "UNET 150 epochs sensitivity: 0.9485405833987621\n",
      "UNET 150 epochs specifity: 0.9877875429462005\n",
      "UNET 150 epochs dice coefficient: 0.9396941682923783\n"
     ]
    }
   ],
   "source": [
    "print('UNET 150 epochs sensitivity: {}'. format(sensitivity_unet150))\n",
    "print('UNET 150 epochs specifity: {}'. format(specifity_unet150))\n",
    "print('UNET 150 epochs dice coefficient: {}'. format(np.mean(dice_unet150)))"
   ]
  },
  {
   "cell_type": "markdown",
   "metadata": {},
   "source": [
    "## 100"
   ]
  },
  {
   "cell_type": "code",
   "execution_count": 19,
   "metadata": {},
   "outputs": [],
   "source": [
    "process_results_unet100 = ProcessResults()\n",
    "\n",
    "process_results_unet100.predict_images_from_dir(backbone='resnet18', \n",
    "                                                val_frame_path=val_frame_path,\n",
    "                                                val_mask_path=val_mask_path,\n",
    "                                                img_height=img_height,\n",
    "                                                img_width=img_width,\n",
    "                                                model=unet100,\n",
    "                                                preprocess=True)"
   ]
  },
  {
   "cell_type": "code",
   "execution_count": 20,
   "metadata": {},
   "outputs": [],
   "source": [
    "masks_unet100 = [process_results_unet100.tresholding(x) for x in process_results_unet100._masks]\n",
    "\n",
    "filtered_images_unet100 = []\n",
    "for im in process_results_unet100._predicted_imgs:\n",
    "    filt_img = process_results_unet100.med_ext_med_filter(im)\n",
    "    filtered_images_unet100.append(np.squeeze(process_results_unet100.tresholding(filt_img)))"
   ]
  },
  {
   "cell_type": "code",
   "execution_count": 21,
   "metadata": {},
   "outputs": [],
   "source": [
    "sensitivity_unet100 = Metrics.sensitivity(np.array(masks_unet100), np.array(filtered_images_unet100))\n",
    "specifity_unet100 = Metrics.specificity(np.array(masks_unet100), np.array(filtered_images_unet100))\n",
    "dice_unet100 = Metrics.dice_coef(np.array(masks_unet100), np.array(filtered_images_unet100))"
   ]
  },
  {
   "cell_type": "code",
   "execution_count": 22,
   "metadata": {},
   "outputs": [
    {
     "name": "stdout",
     "output_type": "stream",
     "text": [
      "UNET 100 epochs sensitivity: 0.8653743769396547\n",
      "UNET 100 epochs specifity: 0.9640451473605408\n",
      "UNET 100 epochs dice coefficient: 0.8208905307991142\n"
     ]
    }
   ],
   "source": [
    "print('UNET 100 epochs sensitivity: {}'. format(sensitivity_unet100))\n",
    "print('UNET 100 epochs specifity: {}'. format(specifity_unet100))\n",
    "print('UNET 100 epochs dice coefficient: {}'. format(np.mean(dice_unet100)))"
   ]
  },
  {
   "cell_type": "markdown",
   "metadata": {},
   "source": [
    "## 200 SGD "
   ]
  },
  {
   "cell_type": "code",
   "execution_count": 23,
   "metadata": {},
   "outputs": [
    {
     "name": "stdout",
     "output_type": "stream",
     "text": [
      "Loaded model from disk\n",
      "Loaded model from disk\n",
      "Loaded model from disk\n"
     ]
    }
   ],
   "source": [
    "unet100SGD = ModelUtils.load_model(os.path.join(prefix, 'model_unet_disk_pretrainedRESNET18_100noeqaSGD'))\n",
    "unet150SGD = ModelUtils.load_model(os.path.join(prefix, 'model_unet_disk_pretrainedRESNET18_150noeqaSGD'))\n",
    "unet200SGD = ModelUtils.load_model(os.path.join(prefix, 'model_unet_disk_pretrainedRESNET18_200noeqaSGD'))"
   ]
  },
  {
   "cell_type": "code",
   "execution_count": 24,
   "metadata": {},
   "outputs": [],
   "source": [
    "process_results_unet200SGD = ProcessResults()\n",
    "\n",
    "process_results_unet200SGD.predict_images_from_dir(backbone='resnet18', \n",
    "                                                val_frame_path=val_frame_path,\n",
    "                                                val_mask_path=val_mask_path,\n",
    "                                                img_height=img_height,\n",
    "                                                img_width=img_width,\n",
    "                                                model=unet200SGD,\n",
    "                                                preprocess=True)"
   ]
  },
  {
   "cell_type": "code",
   "execution_count": 25,
   "metadata": {},
   "outputs": [],
   "source": [
    "masks_unet200SGD = [process_results_unet200SGD.tresholding(x) for x in process_results_unet200SGD._masks]\n",
    "\n",
    "filtered_images_unet200SGD = []\n",
    "for im in process_results_unet200SGD._predicted_imgs:\n",
    "    filt_img = process_results_unet200SGD.med_ext_med_filter(im)\n",
    "    filtered_images_unet200SGD.append(np.squeeze(process_results_unet200SGD.tresholding(filt_img)))"
   ]
  },
  {
   "cell_type": "code",
   "execution_count": 26,
   "metadata": {},
   "outputs": [],
   "source": [
    "sensitivity_unet200SGD = Metrics.sensitivity(np.array(masks_unet200SGD), np.array(filtered_images_unet200SGD))\n",
    "specifity_unet200SGD = Metrics.specificity(np.array(masks_unet200SGD), np.array(filtered_images_unet200SGD))\n",
    "dice_unet200SGD = Metrics.dice_coef(np.array(masks_unet200SGD), np.array(filtered_images_unet200SGD))"
   ]
  },
  {
   "cell_type": "code",
   "execution_count": 27,
   "metadata": {},
   "outputs": [
    {
     "name": "stdout",
     "output_type": "stream",
     "text": [
      "UNET 200 SGD epochs sensitivity: 0.9367418776602389\n",
      "UNET 200 SGD epochs specifity: 0.9877415924750026\n",
      "UNET 200 SGD epochs dice coefficient: 0.9194386774236288\n"
     ]
    }
   ],
   "source": [
    "print('UNET 200 SGD epochs sensitivity: {}'. format(sensitivity_unet200SGD))\n",
    "print('UNET 200 SGD epochs specifity: {}'. format(specifity_unet200SGD))\n",
    "print('UNET 200 SGD epochs dice coefficient: {}'. format(np.mean(dice_unet200SGD)))"
   ]
  },
  {
   "cell_type": "markdown",
   "metadata": {},
   "source": [
    "## 150 SGD "
   ]
  },
  {
   "cell_type": "code",
   "execution_count": 28,
   "metadata": {},
   "outputs": [],
   "source": [
    "process_results_unet150SGD = ProcessResults()\n",
    "\n",
    "process_results_unet150SGD.predict_images_from_dir(backbone='resnet18', \n",
    "                                                   val_frame_path=val_frame_path,\n",
    "                                                   val_mask_path=val_mask_path,\n",
    "                                                   img_height=img_height,\n",
    "                                                   img_width=img_width,\n",
    "                                                   model=unet150SGD,\n",
    "                                                   preprocess=True)"
   ]
  },
  {
   "cell_type": "code",
   "execution_count": 29,
   "metadata": {},
   "outputs": [],
   "source": [
    "masks_unet150SGD = [process_results_unet150SGD.tresholding(x) for x in process_results_unet150SGD._masks]\n",
    "\n",
    "filtered_images_unet150SGD = []\n",
    "for im in process_results_unet150SGD._predicted_imgs:\n",
    "    filt_img = process_results_unet150SGD.med_ext_med_filter(im)\n",
    "    filtered_images_unet150SGD.append(np.squeeze(process_results_unet150SGD.tresholding(filt_img)))"
   ]
  },
  {
   "cell_type": "code",
   "execution_count": 30,
   "metadata": {},
   "outputs": [],
   "source": [
    "sensitivity_unet150SGD = Metrics.sensitivity(np.array(masks_unet150SGD), np.array(filtered_images_unet150SGD))\n",
    "specifity_unet150SGD = Metrics.specificity(np.array(masks_unet150SGD), np.array(filtered_images_unet150SGD))\n",
    "dice_unet150SGD = Metrics.dice_coef(np.array(masks_unet150SGD), np.array(filtered_images_unet150SGD))"
   ]
  },
  {
   "cell_type": "code",
   "execution_count": 31,
   "metadata": {},
   "outputs": [
    {
     "name": "stdout",
     "output_type": "stream",
     "text": [
      "UNET 150 SGD epochs sensitivity: 0.929874205672662\n",
      "UNET 150 SGD epochs specifity: 0.9890871524291687\n",
      "UNET 150 SGD epochs dice coefficient: 0.8938737976732871\n"
     ]
    }
   ],
   "source": [
    "print('UNET 150 SGD epochs sensitivity: {}'. format(sensitivity_unet150SGD))\n",
    "print('UNET 150 SGD epochs specifity: {}'. format(specifity_unet150SGD))\n",
    "print('UNET 150 SGD epochs dice coefficient: {}'. format(np.mean(dice_unet150SGD)))"
   ]
  },
  {
   "cell_type": "markdown",
   "metadata": {},
   "source": [
    "## 100 SGD"
   ]
  },
  {
   "cell_type": "code",
   "execution_count": 32,
   "metadata": {},
   "outputs": [],
   "source": [
    "process_results_unet100SGD = ProcessResults()\n",
    "\n",
    "process_results_unet100SGD.predict_images_from_dir(backbone='resnet18', \n",
    "                                                   val_frame_path=val_frame_path,\n",
    "                                                   val_mask_path=val_mask_path,\n",
    "                                                   img_height=img_height,\n",
    "                                                   img_width=img_width,\n",
    "                                                   model=unet100SGD,\n",
    "                                                   preprocess=True)"
   ]
  },
  {
   "cell_type": "code",
   "execution_count": 33,
   "metadata": {},
   "outputs": [],
   "source": [
    "masks_unet100SGD = [process_results_unet100SGD.tresholding(x) for x in process_results_unet100SGD._masks]\n",
    "\n",
    "filtered_images_unet100SGD = []\n",
    "for im in process_results_unet100SGD._predicted_imgs:\n",
    "    filt_img = process_results_unet100SGD.med_ext_med_filter(im)\n",
    "    filtered_images_unet100SGD.append(np.squeeze(process_results_unet100SGD.tresholding(filt_img)))"
   ]
  },
  {
   "cell_type": "code",
   "execution_count": 34,
   "metadata": {},
   "outputs": [],
   "source": [
    "sensitivity_unet100SGD = Metrics.sensitivity(np.array(masks_unet100SGD), np.array(filtered_images_unet100SGD))\n",
    "specifity_unet100SGD = Metrics.specificity(np.array(masks_unet100SGD), np.array(filtered_images_unet100SGD))\n",
    "dice_unet100SGD = Metrics.dice_coef(np.array(masks_unet100SGD), np.array(filtered_images_unet100SGD))"
   ]
  },
  {
   "cell_type": "code",
   "execution_count": 35,
   "metadata": {},
   "outputs": [
    {
     "name": "stdout",
     "output_type": "stream",
     "text": [
      "UNET 100 SGD epochs sensitivity: 0.8769918705888626\n",
      "UNET 100 SGD epochs specifity: 0.9901647818422986\n",
      "UNET 100 SGD epochs dice coefficient: 0.8701592788835002\n"
     ]
    }
   ],
   "source": [
    "print('UNET 100 SGD epochs sensitivity: {}'. format(sensitivity_unet100SGD))\n",
    "print('UNET 100 SGD epochs specifity: {}'. format(specifity_unet100SGD))\n",
    "print('UNET 100 SGD epochs dice coefficient: {}'. format(np.mean(dice_unet100SGD)))"
   ]
  },
  {
   "cell_type": "markdown",
   "metadata": {},
   "source": [
    "## 200 equalization"
   ]
  },
  {
   "cell_type": "code",
   "execution_count": 37,
   "metadata": {},
   "outputs": [],
   "source": [
    "unet100eqa = ModelUtils.load_model(os.path.join(prefix, 'model_unet_disk_pretrainedRESNET18_100eqa'))\n",
    "unet150eqa = ModelUtils.load_model(os.path.join(prefix, 'model_unet_disk_pretrainedRESNET18_150eqa'))\n",
    "unet200eqa = ModelUtils.load_model(os.path.join(prefix, 'model_unet_disk_pretrainedRESNET18_200eqa'))"
   ]
  },
  {
   "cell_type": "code",
   "execution_count": null,
   "metadata": {},
   "outputs": [],
   "source": [
    "process_results_unet200eqa = ProcessResults()\n",
    "\n",
    "process_results_unet200eqa.predict_images_from_dir(backbone='resnet18', \n",
    "                                                   val_frame_path=val_frame_path,\n",
    "                                                   val_mask_path=val_mask_path,\n",
    "                                                   img_height=img_height,\n",
    "                                                   img_width=img_width,\n",
    "                                                   model=unet200eqa,\n",
    "                                                   preprocess=True)"
   ]
  },
  {
   "cell_type": "code",
   "execution_count": null,
   "metadata": {},
   "outputs": [],
   "source": [
    "masks_unet200eqa = [process_results_unet200eqa.tresholding(x) for x in process_results_unet200eqa._masks]\n",
    "\n",
    "filtered_images_unet200eqa = []\n",
    "for im in process_results_unet200eqa._predicted_imgs:\n",
    "    filt_img = process_results_unet200eqa.med_ext_med_filter(im)\n",
    "    filtered_images_unet200eqa.append(np.squeeze(process_results_unet200eqa.tresholding(filt_img)))"
   ]
  },
  {
   "cell_type": "code",
   "execution_count": null,
   "metadata": {},
   "outputs": [],
   "source": [
    "sensitivity_unet200eqa = Metrics.sensitivity(np.array(masks_unet200eqa), np.array(filtered_images_unet200eqa))\n",
    "specifity_unet200eqa = Metrics.specificity(np.array(masks_unet200eqa), np.array(filtered_images_unet200eqa))\n",
    "dice_unet200eqa = Metrics.dice_coef(np.array(masks_unet200eqa), np.array(filtered_images_unet200eqa))"
   ]
  },
  {
   "cell_type": "code",
   "execution_count": null,
   "metadata": {},
   "outputs": [],
   "source": [
    "print('UNET 200 eqa epochs sensitivity: {}'. format(sensitivity_unet200eqa))\n",
    "print('UNET 200 eqa epochs specifity: {}'. format(specifity_unet200eqa))\n",
    "print('UNET 200 eqa epochs dice coefficient: {}'. format(np.mean(dice_unet200eqa)))"
   ]
  },
  {
   "cell_type": "markdown",
   "metadata": {},
   "source": [
    "## 150 equalization"
   ]
  },
  {
   "cell_type": "code",
   "execution_count": null,
   "metadata": {},
   "outputs": [],
   "source": [
    "process_results_unet150eqa = ProcessResults()\n",
    "\n",
    "process_results_unet150eqa.predict_images_from_dir(backbone='resnet18', \n",
    "                                                   val_frame_path=val_frame_path,\n",
    "                                                   val_mask_path=val_mask_path,\n",
    "                                                   img_height=img_height,\n",
    "                                                   img_width=img_width,\n",
    "                                                   model=unet150eqa,\n",
    "                                                   preprocess=True)"
   ]
  },
  {
   "cell_type": "code",
   "execution_count": null,
   "metadata": {},
   "outputs": [],
   "source": [
    "masks_unet150eqa = [process_results_unet150eqa.tresholding(x) for x in process_results_unet150eqa._masks]\n",
    "\n",
    "filtered_images_unet150eqa = []\n",
    "for im in process_results_unet150eqa._predicted_imgs:\n",
    "    filt_img = process_results_unet150eqa.med_ext_med_filter(im)\n",
    "    filtered_images_unet150eqa.append(np.squeeze(process_results_unet150eqa.tresholding(filt_img)))"
   ]
  },
  {
   "cell_type": "code",
   "execution_count": null,
   "metadata": {},
   "outputs": [],
   "source": [
    "sensitivity_unet150eqa = Metrics.sensitivity(np.array(masks_unet150eqa), np.array(filtered_images_unet150eqa))\n",
    "specifity_unet150eqa = Metrics.specificity(np.array(masks_unet150eqa), np.array(filtered_images_unet150eqa))\n",
    "dice_unet150eqa = Metrics.dice_coef(np.array(masks_unet150eqa), np.array(filtered_images_unet150eqa))"
   ]
  },
  {
   "cell_type": "code",
   "execution_count": null,
   "metadata": {},
   "outputs": [],
   "source": [
    "print('UNET 150 eqa epochs sensitivity: {}'. format(sensitivity_unet150eqa))\n",
    "print('UNET 150 eqa epochs specifity: {}'. format(specifity_unet150eqa))\n",
    "print('UNET 150 eqa epochs dice coefficient: {}'. format(np.mean(dice_unet150eqa)))"
   ]
  },
  {
   "cell_type": "markdown",
   "metadata": {},
   "source": [
    "## 100 equalization"
   ]
  },
  {
   "cell_type": "code",
   "execution_count": null,
   "metadata": {},
   "outputs": [],
   "source": [
    "process_results_unet100eqa = ProcessResults()\n",
    "\n",
    "process_results_unet100eqa.predict_images_from_dir(backbone='resnet18', \n",
    "                                                   val_frame_path=val_frame_path,\n",
    "                                                   val_mask_path=val_mask_path,\n",
    "                                                   img_height=img_height,\n",
    "                                                   img_width=img_width,\n",
    "                                                   model=unet100eqa,\n",
    "                                                   preprocess=True)"
   ]
  },
  {
   "cell_type": "code",
   "execution_count": null,
   "metadata": {},
   "outputs": [],
   "source": [
    "masks_unet100eqa = [process_results_unet100eqa.tresholding(x) for x in process_results_unet100eqa._masks]\n",
    "\n",
    "filtered_images_unet100eqa = []\n",
    "for im in process_results_unet100eqa._predicted_imgs:\n",
    "    filt_img = process_results_unet100eqa.med_ext_med_filter(im)\n",
    "    filtered_images_unet100eqa.append(np.squeeze(process_results_unet100eqa.tresholding(filt_img)))"
   ]
  },
  {
   "cell_type": "code",
   "execution_count": null,
   "metadata": {},
   "outputs": [],
   "source": [
    "sensitivity_unet100eqa = Metrics.sensitivity(np.array(masks_unet100eqa), np.array(filtered_images_unet100eqa))\n",
    "specifity_unet100eqa = Metrics.specificity(np.array(masks_unet100eqa), np.array(filtered_images_unet100eqa))\n",
    "dice_unet100eqa = Metrics.dice_coef(np.array(masks_unet100eqa), np.array(filtered_images_unet100eqa))"
   ]
  },
  {
   "cell_type": "code",
   "execution_count": null,
   "metadata": {},
   "outputs": [],
   "source": [
    "print('UNET 100 eqa epochs sensitivity: {}'. format(sensitivity_unet100eqa))\n",
    "print('UNET 100 eqa epochs specifity: {}'. format(specifity_unet100eqa))\n",
    "print('UNET 100 eqa dice coefficient: {}'. format(np.mean(dice_unet100eqa)))"
   ]
  },
  {
   "cell_type": "markdown",
   "metadata": {},
   "source": [
    "# LinkNet"
   ]
  },
  {
   "cell_type": "markdown",
   "metadata": {},
   "source": [
    "## 200"
   ]
  },
  {
   "cell_type": "code",
   "execution_count": 38,
   "metadata": {},
   "outputs": [
    {
     "name": "stdout",
     "output_type": "stream",
     "text": [
      "Loaded model from disk\n",
      "Loaded model from disk\n",
      "Loaded model from disk\n"
     ]
    }
   ],
   "source": [
    "linknet100 = ModelUtils.load_model(os.path.join(prefix, 'model_linknet_disk_pretrainedRESNET18_100noeqa'))\n",
    "linknet150 = ModelUtils.load_model(os.path.join(prefix, 'model_linknet_disk_pretrainedRESNET18_150noeqa'))\n",
    "linknet200 = ModelUtils.load_model(os.path.join(prefix, 'model_linknet_disk_pretrainedRESNET18_200noeqa'))"
   ]
  },
  {
   "cell_type": "code",
   "execution_count": 39,
   "metadata": {},
   "outputs": [],
   "source": [
    "process_results_linknet200 = ProcessResults()\n",
    "\n",
    "process_results_linknet200.predict_images_from_dir(backbone='resnet18', \n",
    "                                                   val_frame_path=val_frame_path,\n",
    "                                                   val_mask_path=val_mask_path,\n",
    "                                                   img_height=img_height,\n",
    "                                                   img_width=img_width,\n",
    "                                                   model=linknet200,\n",
    "                                                   preprocess=True)"
   ]
  },
  {
   "cell_type": "code",
   "execution_count": 40,
   "metadata": {},
   "outputs": [],
   "source": [
    "masks_linknet200 = [process_results_linknet200.tresholding(x) for x in process_results_linknet200._masks]\n",
    "\n",
    "filtered_images_linknet200 = []\n",
    "for im in process_results_linknet200._predicted_imgs:\n",
    "    filt_img = process_results_linknet200.med_ext_med_filter(im)\n",
    "    filtered_images_linknet200.append(np.squeeze(process_results_linknet200.tresholding(filt_img)))"
   ]
  },
  {
   "cell_type": "code",
   "execution_count": 41,
   "metadata": {},
   "outputs": [],
   "source": [
    "sensitivity_linknet200 = Metrics.sensitivity(np.array(masks_linknet200), np.array(filtered_images_linknet200))\n",
    "specifity_linknet200 = Metrics.specificity(np.array(masks_linknet200), np.array(filtered_images_linknet200))\n",
    "dice_linknet200 = Metrics.dice_coef(np.array(masks_linknet200), np.array(filtered_images_linknet200))"
   ]
  },
  {
   "cell_type": "code",
   "execution_count": 39,
   "metadata": {},
   "outputs": [
    {
     "name": "stdout",
     "output_type": "stream",
     "text": [
      "Linknet 200 epochs sensitivity: 0.9066730278005155\n",
      "Linknet 200 epochs specifity: 0.9909731623707033\n",
      "Linknet 200 dice coefficient: 0.9262967606506363\n"
     ]
    }
   ],
   "source": [
    "print('Linknet 200 epochs sensitivity: {}'. format(sensitivity_linknet200))\n",
    "print('Linknet 200 epochs specifity: {}'. format(specifity_linknet200))\n",
    "print('Linknet 200 epochs dice coefficient: {}'. format(np.mean(dice_linknet200)))"
   ]
  },
  {
   "cell_type": "markdown",
   "metadata": {},
   "source": [
    "## 150"
   ]
  },
  {
   "cell_type": "code",
   "execution_count": 42,
   "metadata": {},
   "outputs": [],
   "source": [
    "process_results_linknet150 = ProcessResults()\n",
    "\n",
    "process_results_linknet150.predict_images_from_dir(backbone='resnet18', \n",
    "                                                   val_frame_path=val_frame_path,\n",
    "                                                   val_mask_path=val_mask_path,\n",
    "                                                   img_height=img_height,\n",
    "                                                   img_width=img_width,\n",
    "                                                   model=linknet150,\n",
    "                                                   preprocess=True)"
   ]
  },
  {
   "cell_type": "code",
   "execution_count": 43,
   "metadata": {},
   "outputs": [],
   "source": [
    "masks_linknet150 = [process_results_linknet150.tresholding(x) for x in process_results_linknet150._masks]\n",
    "\n",
    "filtered_images_linknet150 = []\n",
    "for im in process_results_linknet150._predicted_imgs:\n",
    "    filt_img = process_results_linknet150.med_ext_med_filter(im)\n",
    "    filtered_images_linknet150.append(np.squeeze(process_results_linknet150.tresholding(filt_img)))"
   ]
  },
  {
   "cell_type": "code",
   "execution_count": 44,
   "metadata": {},
   "outputs": [],
   "source": [
    "sensitivity_linknet150 = Metrics.sensitivity(np.array(masks_linknet150), np.array(filtered_images_linknet150))\n",
    "specifity_linknet150 = Metrics.specificity(np.array(masks_linknet150), np.array(filtered_images_linknet150))\n",
    "dice_linknet150 = Metrics.dice_coef(np.array(masks_linknet150), np.array(filtered_images_linknet150))"
   ]
  },
  {
   "cell_type": "code",
   "execution_count": 47,
   "metadata": {},
   "outputs": [
    {
     "name": "stdout",
     "output_type": "stream",
     "text": [
      "Linknet 150 epochs sensitivity: 0.9084841876939238\n",
      "Linknet 150 epochs specifity: 0.9921319826715902\n",
      "Linknet 150 epochs dice coefficient: 0.9253132949956828\n"
     ]
    }
   ],
   "source": [
    "print('Linknet 150 epochs sensitivity: {}'. format(sensitivity_linknet150))\n",
    "print('Linknet 150 epochs specifity: {}'. format(specifity_linknet150))\n",
    "print('Linknet 150 epochs dice coefficient: {}'. format(np.mean(dice_linknet150)))"
   ]
  },
  {
   "cell_type": "markdown",
   "metadata": {},
   "source": [
    "## 100"
   ]
  },
  {
   "cell_type": "code",
   "execution_count": 48,
   "metadata": {},
   "outputs": [],
   "source": [
    "process_results_linknet100 = ProcessResults()\n",
    "\n",
    "process_results_linknet100.predict_images_from_dir(backbone='resnet18', \n",
    "                                                   val_frame_path=val_frame_path,\n",
    "                                                   val_mask_path=val_mask_path,\n",
    "                                                   img_height=img_height,\n",
    "                                                   img_width=img_width,\n",
    "                                                   model=linknet100,\n",
    "                                                   preprocess=True)"
   ]
  },
  {
   "cell_type": "code",
   "execution_count": 49,
   "metadata": {},
   "outputs": [],
   "source": [
    "masks_linknet100 = [process_results_linknet100.tresholding(x) for x in process_results_linknet100._masks]\n",
    "\n",
    "filtered_images_linknet100 = []\n",
    "for im in process_results_linknet100._predicted_imgs:\n",
    "    filt_img = process_results_linknet100.med_ext_med_filter(im)\n",
    "    filtered_images_linknet100.append(np.squeeze(process_results_linknet100.tresholding(filt_img)))"
   ]
  },
  {
   "cell_type": "code",
   "execution_count": 50,
   "metadata": {},
   "outputs": [],
   "source": [
    "sensitivity_linknet100 = Metrics.sensitivity(np.array(masks_linknet100), np.array(filtered_images_linknet100))\n",
    "specifity_linknet100 = Metrics.specificity(np.array(masks_linknet100), np.array(filtered_images_linknet100))\n",
    "dice_linknet100 = Metrics.dice_coef(np.array(masks_linknet100), np.array(filtered_images_linknet100))"
   ]
  },
  {
   "cell_type": "code",
   "execution_count": 51,
   "metadata": {},
   "outputs": [
    {
     "name": "stdout",
     "output_type": "stream",
     "text": [
      "Linknet 100 epochs sensitivity: 0.7482606631010522\n",
      "Linknet 100 epochs specifity: 0.9793509610089955\n",
      "Linknet 100 epochsdice coefficient: 0.802575479477262\n"
     ]
    }
   ],
   "source": [
    "print('Linknet 100 epochs sensitivity: {}'. format(sensitivity_linknet100))\n",
    "print('Linknet 100 epochs specifity: {}'. format(specifity_linknet100))\n",
    "print('Linknet 100 epochsdice coefficient: {}'. format(np.mean(dice_linknet100)))"
   ]
  },
  {
   "cell_type": "markdown",
   "metadata": {},
   "source": [
    "# PSP"
   ]
  },
  {
   "cell_type": "markdown",
   "metadata": {},
   "source": [
    "## 200"
   ]
  },
  {
   "cell_type": "code",
   "execution_count": 52,
   "metadata": {},
   "outputs": [],
   "source": [
    "img_height = 384\n",
    "img_width = 384\n",
    "\n",
    "image_ut = ImageUtils(val_frame_path, val_mask_path, img_height, img_width, architecture='unet')"
   ]
  },
  {
   "cell_type": "code",
   "execution_count": 53,
   "metadata": {},
   "outputs": [
    {
     "name": "stdout",
     "output_type": "stream",
     "text": [
      "Loaded model from disk\n",
      "Loaded model from disk\n",
      "Loaded model from disk\n"
     ]
    }
   ],
   "source": [
    "psp100 = ModelUtils.load_model(os.path.join(prefix, 'model_pspnet_disk_pretrainedRESNET18_100noeqa'))\n",
    "psp150 = ModelUtils.load_model(os.path.join(prefix, 'model_pspnet_disk_pretrainedRESNET18_150noeqa'))\n",
    "psp200 = ModelUtils.load_model(os.path.join(prefix, 'model_pspnet_disk_pretrainedRESNET18_200noeqa'))"
   ]
  },
  {
   "cell_type": "code",
   "execution_count": 54,
   "metadata": {},
   "outputs": [],
   "source": [
    "process_results_psp200 = ProcessResults()\n",
    "\n",
    "process_results_psp200.predict_images_from_dir(backbone='resnet18', \n",
    "                                               val_frame_path=val_frame_path,\n",
    "                                               val_mask_path=val_mask_path,\n",
    "                                               img_height=img_height,\n",
    "                                               img_width=img_width,\n",
    "                                               model=psp200,\n",
    "                                               preprocess=True)"
   ]
  },
  {
   "cell_type": "code",
   "execution_count": 55,
   "metadata": {},
   "outputs": [],
   "source": [
    "masks_psp200 = [process_results_psp200.tresholding(x) for x in process_results_psp200._masks]\n",
    "\n",
    "filtered_images_psp200 = []\n",
    "for im in process_results_psp200._predicted_imgs:\n",
    "    filt_img = process_results_psp200.med_ext_med_filter(im)\n",
    "    filtered_images_psp200.append(np.squeeze(process_results_psp200.tresholding(filt_img)))"
   ]
  },
  {
   "cell_type": "code",
   "execution_count": 56,
   "metadata": {},
   "outputs": [],
   "source": [
    "sensitivity_psp200 = Metrics.sensitivity(np.array(masks_psp200), np.array(filtered_images_psp200))\n",
    "specifity_psp200 = Metrics.specificity(np.array(masks_psp200), np.array(filtered_images_psp200))\n",
    "dice_psp200 = Metrics.dice_coef(np.array(masks_psp200), np.array(filtered_images_psp200))"
   ]
  },
  {
   "cell_type": "code",
   "execution_count": 57,
   "metadata": {},
   "outputs": [
    {
     "name": "stdout",
     "output_type": "stream",
     "text": [
      "PSP 200 epochs sensitivity: 0.7026484275588751\n",
      "PSP 200 epochs specifity: 0.9956921583932767\n",
      "PSP 200 epochs dice coefficient: 0.8580590750056573\n"
     ]
    }
   ],
   "source": [
    "print('PSP 200 epochs sensitivity: {}'. format(sensitivity_psp200))\n",
    "print('PSP 200 epochs specifity: {}'. format(specifity_psp200))\n",
    "print('PSP 200 epochs dice coefficient: {}'. format(np.mean(dice_psp200)))"
   ]
  },
  {
   "cell_type": "markdown",
   "metadata": {},
   "source": [
    "## 150"
   ]
  },
  {
   "cell_type": "code",
   "execution_count": 58,
   "metadata": {},
   "outputs": [],
   "source": [
    "process_results_psp150 = ProcessResults()\n",
    "\n",
    "process_results_psp150.predict_images_from_dir(backbone='resnet18', \n",
    "                                                   val_frame_path=val_frame_path,\n",
    "                                                   val_mask_path=val_mask_path,\n",
    "                                                   img_height=img_height,\n",
    "                                                   img_width=img_width,\n",
    "                                                   model=psp150,\n",
    "                                                   preprocess=True)"
   ]
  },
  {
   "cell_type": "code",
   "execution_count": 59,
   "metadata": {},
   "outputs": [],
   "source": [
    "masks_psp150 = [process_results_psp150.tresholding(x) for x in process_results_psp150._masks]\n",
    "\n",
    "filtered_images_psp150 = []\n",
    "for im in process_results_psp150._predicted_imgs:\n",
    "    filt_img = process_results_psp150.med_ext_med_filter(im)\n",
    "    filtered_images_psp150.append(np.squeeze(process_results_psp150.tresholding(filt_img)))"
   ]
  },
  {
   "cell_type": "code",
   "execution_count": 60,
   "metadata": {},
   "outputs": [],
   "source": [
    "sensitivity_psp150 = Metrics.sensitivity(np.array(masks_psp150), np.array(filtered_images_psp150))\n",
    "specifity_psp150 = Metrics.specificity(np.array(masks_psp150), np.array(filtered_images_psp150))\n",
    "dice_psp150 = Metrics.dice_coef(np.array(masks_psp150), np.array(filtered_images_psp150))"
   ]
  },
  {
   "cell_type": "code",
   "execution_count": 61,
   "metadata": {},
   "outputs": [
    {
     "name": "stdout",
     "output_type": "stream",
     "text": [
      "PSP 150 epochs sensitivity: 0.753322267916829\n",
      "PSP 150 epochs specifity: 0.9912752531625999\n",
      "PSP 150 epochs dice coefficient: 0.8567736293328629\n"
     ]
    }
   ],
   "source": [
    "print('PSP 150 epochs sensitivity: {}'. format(sensitivity_psp150))\n",
    "print('PSP 150 epochs specifity: {}'. format(specifity_psp150))\n",
    "print('PSP 150 epochs dice coefficient: {}'. format(np.mean(dice_psp150)))"
   ]
  },
  {
   "cell_type": "markdown",
   "metadata": {},
   "source": [
    "## 100"
   ]
  },
  {
   "cell_type": "code",
   "execution_count": 62,
   "metadata": {},
   "outputs": [],
   "source": [
    "process_results_psp100 = ProcessResults()\n",
    "\n",
    "process_results_psp100.predict_images_from_dir(backbone='resnet18', \n",
    "                                                   val_frame_path=val_frame_path,\n",
    "                                                   val_mask_path=val_mask_path,\n",
    "                                                   img_height=img_height,\n",
    "                                                   img_width=img_width,\n",
    "                                                   model=psp100,\n",
    "                                                   preprocess=True)"
   ]
  },
  {
   "cell_type": "code",
   "execution_count": 63,
   "metadata": {},
   "outputs": [],
   "source": [
    "masks_psp100 = [process_results_psp100.tresholding(x) for x in process_results_psp100._masks]\n",
    "\n",
    "filtered_images_psp100 = []\n",
    "for im in process_results_psp100._predicted_imgs:\n",
    "    filt_img = process_results_psp100.med_ext_med_filter(im)\n",
    "    filtered_images_psp100.append(np.squeeze(process_results_psp100.tresholding(filt_img)))"
   ]
  },
  {
   "cell_type": "code",
   "execution_count": 64,
   "metadata": {},
   "outputs": [],
   "source": [
    "sensitivity_psp100 = Metrics.sensitivity(np.array(masks_psp100), np.array(filtered_images_psp100))\n",
    "specifity_psp100 = Metrics.specificity(np.array(masks_psp100), np.array(filtered_images_psp100))\n",
    "dice_psp100 = Metrics.dice_coef(np.array(masks_psp100), np.array(filtered_images_psp100))"
   ]
  },
  {
   "cell_type": "code",
   "execution_count": 65,
   "metadata": {},
   "outputs": [
    {
     "name": "stdout",
     "output_type": "stream",
     "text": [
      "PSP 100 epochs sensitivity: 0.7532397783902969\n",
      "PSP 100 epochs specifity: 0.9910272809225975\n",
      "PSP 100 epochs dice coefficient: 0.8611364643164163\n"
     ]
    }
   ],
   "source": [
    "print('PSP 100 epochs sensitivity: {}'. format(sensitivity_psp100))\n",
    "print('PSP 100 epochs specifity: {}'. format(specifity_psp100))\n",
    "print('PSP 100 epochs dice coefficient: {}'. format(np.mean(dice_psp100)))"
   ]
  }
 ],
 "metadata": {
  "kernelspec": {
   "display_name": "Aja3",
   "language": "python",
   "name": "aja3"
  },
  "language_info": {
   "codemirror_mode": {
    "name": "ipython",
    "version": 3
   },
   "file_extension": ".py",
   "mimetype": "text/x-python",
   "name": "python",
   "nbconvert_exporter": "python",
   "pygments_lexer": "ipython3",
   "version": "3.6.8"
  }
 },
 "nbformat": 4,
 "nbformat_minor": 2
}
