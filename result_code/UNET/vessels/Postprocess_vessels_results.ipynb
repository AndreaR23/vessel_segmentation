{
 "cells": [
  {
   "cell_type": "markdown",
   "metadata": {},
   "source": [
    "# Display postprocessed images detected vessels"
   ]
  },
  {
   "cell_type": "code",
   "execution_count": null,
   "metadata": {},
   "outputs": [],
   "source": [
    "import sys\n",
    "sys.path.append('..')"
   ]
  },
  {
   "cell_type": "code",
   "execution_count": 1,
   "metadata": {},
   "outputs": [
    {
     "name": "stderr",
     "output_type": "stream",
     "text": [
      "Using TensorFlow backend.\n",
      "/usr/local/lib/python3.5/dist-packages/classification_models/resnext/__init__.py:4: UserWarning: Current ResNext models are deprecated, use keras.applications ResNeXt models\n",
      "  warnings.warn('Current ResNext models are deprecated, '\n"
     ]
    }
   ],
   "source": [
    "import os  \n",
    "import random\n",
    "import cv2\n",
    "import numpy as np\n",
    "from matplotlib import pyplot as plt\n",
    "from segmentation_models.backbones import get_preprocessing\n",
    "\n",
    "from classes.image_utils import ImageUtils\n",
    "from classes.model_utils import ModelUtils\n",
    "from classes.process_results import ProcessResults\n",
    "from classes.visualize import VisualizeUtils"
   ]
  },
  {
   "cell_type": "markdown",
   "metadata": {},
   "source": [
    "## Initialize"
   ]
  },
  {
   "cell_type": "code",
   "execution_count": 2,
   "metadata": {},
   "outputs": [],
   "source": [
    "val_frame_path = '/home/andrea/learning/vessel_segmentation/custom_train/val_imgs/val'\n",
    "val_mask_path = '/home/andrea/learning/vessel_segmentation/custom_train/val_masks/val'\n",
    "\n",
    "img_height = 768\n",
    "img_width = 768\n",
    "\n",
    "backbone = 'resnet18'\n",
    "\n",
    "preprocess_input = get_preprocessing(backbone)\n",
    "image_ut = ImageUtils(val_frame_path, val_mask_path, img_height, img_width, architecture='unet')\n",
    "process_results = ProcessResults()"
   ]
  },
  {
   "cell_type": "markdown",
   "metadata": {},
   "source": [
    "## Load model"
   ]
  },
  {
   "cell_type": "code",
   "execution_count": 3,
   "metadata": {},
   "outputs": [
    {
     "name": "stdout",
     "output_type": "stream",
     "text": [
      "Loaded model from disk\n"
     ]
    }
   ],
   "source": [
    "model_RESNET18_150 = ModelUtils.load_model('/home/andrea/learning/vessel_segmentation/result_code/UNET/models/model_unet_disk_pretrainedRESNET18_6')"
   ]
  },
  {
   "cell_type": "markdown",
   "metadata": {},
   "source": [
    "## Filtering and tresholding predicted images"
   ]
  },
  {
   "cell_type": "code",
   "execution_count": null,
   "metadata": {},
   "outputs": [],
   "source": [
    "process_results.predict_images_from_dir(backbone='resnet18',\n",
    "                                        val_frame_path=val_frame_path,\n",
    "                                        val_mask_path=val_mask_path,\n",
    "                                        model=model_RESNET18_150,\n",
    "                                        img_height=img_height,\n",
    "                                        img_width=img_width)"
   ]
  },
  {
   "cell_type": "code",
   "execution_count": null,
   "metadata": {},
   "outputs": [],
   "source": [
    "filtered_images = []\n",
    "\n",
    "for im in process_results._predicted_imgs:\n",
    "    filt_img = process_results.med_ext_med_filter(im)\n",
    "    filtered_images.append(process_results.tresholding(filt_img))"
   ]
  },
  {
   "cell_type": "markdown",
   "metadata": {},
   "source": [
    "## Plot predicted masks"
   ]
  },
  {
   "cell_type": "code",
   "execution_count": null,
   "metadata": {},
   "outputs": [],
   "source": [
    "VisualizeUtils.draw_contours_dataset(process_results._imgs, process_results._masks, filtered_images)"
   ]
  }
 ],
 "metadata": {
  "kernelspec": {
   "display_name": "Python 3",
   "language": "python",
   "name": "python3"
  },
  "language_info": {
   "codemirror_mode": {
    "name": "ipython",
    "version": 3
   },
   "file_extension": ".py",
   "mimetype": "text/x-python",
   "name": "python",
   "nbconvert_exporter": "python",
   "pygments_lexer": "ipython3",
   "version": "3.6.8"
  }
 },
 "nbformat": 4,
 "nbformat_minor": 2
}
