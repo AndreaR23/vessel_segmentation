{
 "cells": [
  {
   "cell_type": "markdown",
   "metadata": {},
   "source": [
    "# Evaluation different models and parameters for vessels segmentation"
   ]
  },
  {
   "cell_type": "code",
   "execution_count": 2,
   "metadata": {},
   "outputs": [],
   "source": [
    "import sys\n",
    "sys.path.append('..')"
   ]
  },
  {
   "cell_type": "code",
   "execution_count": 3,
   "metadata": {},
   "outputs": [],
   "source": [
    "import os  \n",
    "import random\n",
    "import cv2\n",
    "import numpy as np\n",
    "from matplotlib import pyplot as plt\n",
    "from segmentation_models.backbones import get_preprocessing\n",
    "from keras import backend as K\n",
    "\n",
    "from classes.model_utils import ModelUtils\n",
    "from classes.image_utils import ImageUtils\n",
    "from classes.process_results import ProcessResults\n",
    "from classes.metrics import Metrics"
   ]
  },
  {
   "cell_type": "markdown",
   "metadata": {},
   "source": [
    "## Initialize"
   ]
  },
  {
   "cell_type": "code",
   "execution_count": 5,
   "metadata": {},
   "outputs": [],
   "source": [
    "val_frame_path = '/home/andrea/learning/vessel_segmentation/custom_train/val_imgs/val'\n",
    "val_mask_path = '/home/andrea/learning/vessel_segmentation/custom_train/val_masks/val'\n",
    "img_height = 384\n",
    "img_width = 384\n",
    "\n",
    "image_ut = ImageUtils(val_frame_path, val_mask_path, img_height, img_width, architecture='unet')"
   ]
  },
  {
   "cell_type": "code",
   "execution_count": 4,
   "metadata": {},
   "outputs": [],
   "source": [
    "from scipy.signal import medfilt2d\n",
    "from skimage import data, color\n",
    "from skimage import measure"
   ]
  },
  {
   "cell_type": "markdown",
   "metadata": {},
   "source": [
    "## Load models"
   ]
  },
  {
   "cell_type": "code",
   "execution_count": null,
   "metadata": {},
   "outputs": [],
   "source": [
    "prefix = '/home/andrea/learning/vessel_segmentation/result_code/UNET/models/'"
   ]
  },
  {
   "cell_type": "code",
   "execution_count": null,
   "metadata": {},
   "outputs": [],
   "source": [
    "linknet_resnet_100 =  ModelUtils.load_model(os.path.join(prefix, 'model_linknet_disk_pretrainedRESNET18_100noeqa'))\n",
    "linknet_resnet_150 =  ModelUtils.load_model(os.path.join(prefix, '/model_linknet_disk_pretrainedRESNET18_150noeqa'))\n",
    "linknet_resnet31_100 =  ModelUtils.load_model(os.path.join(prefix, '/model_linknet_disk_pretrainedRESNET31_100noeqa'))\n",
    "linknet_vgg19_100 =  ModelUtils.load_model(os.path.join(prefix, '/model_linknet_disk_pretrainedVGG_100noeqa'))\n",
    "psp_resnet18_100 =  ModelUtils.load_model(os.path.join(prefix, 'model_pspnet_disk_pretrainedRESNET18_100noeqa'))\n",
    "psp_resnet18_100SGD =  ModelUtils.load_model(os.path.join(prefix, 'model_pspnet_disk_pretrainedRESNET18_SGD100noeqa'))\n",
    "unet_resnet18_100 =  ModelUtils.load_model(os.path.join(prefix, 'model_unet_disk_pretrainedRESNET18_100noeqa'))\n",
    "unet_resnet18_200 =  ModelUtils.load_model(os.path.join(prefix, 'model_unet_disk_pretrainedRESNET18_200noeqa'))\n",
    "unet_resnet34_200 =  ModelUtils.load_model(os.path.join(prefix, 'model_unet_disk_pretrainedRESNET34_200noeqa'))"
   ]
  },
  {
   "cell_type": "markdown",
   "metadata": {},
   "source": [
    "## PSP"
   ]
  },
  {
   "cell_type": "code",
   "execution_count": null,
   "metadata": {},
   "outputs": [],
   "source": [
    "process_results_pspnet = ProcessResults()\n",
    "\n",
    "process_results_pspnet.predict_images(backbone='resnet18', \n",
    "                                      val_frame_path=val_frame_path,\n",
    "                                      val_mask_path=val_mask_path,\n",
    "                                      img_height=img_height,\n",
    "                                      img_width=img_width,\n",
    "                                      model=psp_resnet18_100,\n",
    "                                      preprocess=True)"
   ]
  },
  {
   "cell_type": "code",
   "execution_count": null,
   "metadata": {},
   "outputs": [],
   "source": [
    "masks_psp = process_results_pspnet.tresholdibg(process_results_pspnet._masks)\n",
    "\n",
    "filtered_images_psp = []\n",
    "for im in process_results_pspnet._predicted_imgs:\n",
    "    filt_img = process_results_pspnet.med_ext_med_filter(im)\n",
    "    filtered_images_psp.append(np.squeeze(process_results_pspnet.tresholding(filt_img)))"
   ]
  },
  {
   "cell_type": "code",
   "execution_count": null,
   "metadata": {},
   "outputs": [],
   "source": [
    "sensitivity_psp = Metrics.sensitivity(np.array(masks_psp), np.array(filtered_images_psp))\n",
    "specifity_psp = Metrics.specificity(np.array(masks_psp), np.array(filtered_images_psp))\n",
    "dice_psp = Metrics.dice_coef(np.array(np.array(masks_psp), np.array(filtered_images_psp))"
   ]
  },
  {
   "cell_type": "code",
   "execution_count": null,
   "metadata": {},
   "outputs": [],
   "source": [
    "print('PSP sensitivity: {}'. format(sensitivity_psp))\n",
    "print('PSP specifity: {}'. format(specifity_psp))\n",
    "print('PSP dice coefficient: {}'. format(dice_psp))"
   ]
  },
  {
   "cell_type": "markdown",
   "metadata": {},
   "source": [
    "## Linknet"
   ]
  },
  {
   "cell_type": "code",
   "execution_count": null,
   "metadata": {},
   "outputs": [],
   "source": [
    "process_results_linknet = ProcessResults()\n",
    "\n",
    "process_results_linknet.predict_images(backbone='resnet18', \n",
    "                                       val_frame_path=val_frame_path,\n",
    "                                       val_mask_path=val_mask_path, \n",
    "                                       img_height=img_height, \n",
    "                                       img_width=img_width, \n",
    "                                       model=linknet_resnet_100, \n",
    "                                       preprocess=True)"
   ]
  },
  {
   "cell_type": "code",
   "execution_count": null,
   "metadata": {},
   "outputs": [],
   "source": [
    "masks_link = process_results_linknet.tresholdibg(process_results_linknet._masks)\n",
    "\n",
    "filtered_images_link = []\n",
    "for im in process_results_linknet._predicted_imgs:\n",
    "    filt_img = process_results_linknet.med_ext_med_filter(im)\n",
    "    filtered_images_link.append(np.squeeze(process_results_linknet.tresholding(filt_img)))"
   ]
  },
  {
   "cell_type": "code",
   "execution_count": null,
   "metadata": {},
   "outputs": [],
   "source": [
    "sensitivity_link = Metrics.sensitivity(np.array(masks_link), np.array(filtered_images_link))\n",
    "specifity_link = Metrics.specificity(np.array(masks_link), np.array(filtered_images_link))\n",
    "dice_link = Metrics.dice_coef(np.array(np.array(masks_link), np.array(filtered_images_link))"
   ]
  },
  {
   "cell_type": "code",
   "execution_count": null,
   "metadata": {},
   "outputs": [],
   "source": [
    "print('LinkNet sensitivity: {}'. format(sensitivity_link))\n",
    "print('LinkNet specifity: {}'. format(specifity_link))\n",
    "print('LinkNet dice coefficient: {}'. format(dice_link))"
   ]
  },
  {
   "cell_type": "markdown",
   "metadata": {},
   "source": [
    "## Unet"
   ]
  },
  {
   "cell_type": "code",
   "execution_count": null,
   "metadata": {},
   "outputs": [],
   "source": [
    "￼process_results_unet = ProcessResults()\n",
    "\n",
    "process_results_unet.predict_images(backbone='resnet18',  \n",
    "                                    val_frame_path=val_frame_path,\n",
    "                                    val_mask_path=val_mask_path,\n",
    "                                    img_height=img_height,\n",
    "                                    img_width=img_width,\n",
    "                                    model=unet_resnet18_100,\n",
    "                                    preprocess=True)"
   ]
  },
  {
   "cell_type": "code",
   "execution_count": null,
   "metadata": {},
   "outputs": [],
   "source": [
    "masks_unet = process_results_unet.tresholdibg(process_results_unet._masks)\n",
    "\n",
    "filtered_images_unet = []\n",
    "for im in process_results_unet._predicted_imgs:\n",
    "    filt_img = process_results_unet.med_ext_med_filter(im)\n",
    "    filtered_images_unet.append(np.squeeze(process_results_unet.tresholding(filt_img)))"
   ]
  },
  {
   "cell_type": "code",
   "execution_count": null,
   "metadata": {},
   "outputs": [],
   "source": [
    "sensitivity_unet = Metrics.sensitivity(np.array(masks_unet), np.array(filtered_images_unet))\n",
    "specifity_unet = Metrics.specificity(np.array(masks_unet), np.array(filtered_images_unet))\n",
    "dice_unet = Metrics.dice_coef(np.array(np.array(masks_unet), np.array(filtered_images_unet))"
   ]
  },
  {
   "cell_type": "code",
   "execution_count": null,
   "metadata": {},
   "outputs": [],
   "source": [
    "print('Unet sensitivity: {}'. format(sensitivity_unet))\n",
    "print('Unet specifity: {}'. format(specifity_unet))\n",
    "print('Unet dice coefficient: {}'. format(dice_unet))"
   ]
  }
 ],
 "metadata": {
  "kernelspec": {
   "display_name": "Aja3",
   "language": "python",
   "name": "aja3"
  },
  "language_info": {
   "codemirror_mode": {
    "name": "ipython",
    "version": 3
   },
   "file_extension": ".py",
   "mimetype": "text/x-python",
   "name": "python",
   "nbconvert_exporter": "python",
   "pygments_lexer": "ipython3",
   "version": "3.6.8"
  }
 },
 "nbformat": 4,
 "nbformat_minor": 2
}
