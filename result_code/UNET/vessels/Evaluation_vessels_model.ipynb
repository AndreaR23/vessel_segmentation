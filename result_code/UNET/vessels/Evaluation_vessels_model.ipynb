{
 "cells": [
  {
   "cell_type": "markdown",
   "metadata": {},
   "source": [
    "# Evaluation different models and parameters for vessels segmentation"
   ]
  },
  {
   "cell_type": "code",
   "execution_count": 1,
   "metadata": {},
   "outputs": [],
   "source": [
    "import sys\n",
    "sys.path.append('..')"
   ]
  },
  {
   "cell_type": "code",
   "execution_count": 2,
   "metadata": {},
   "outputs": [
    {
     "name": "stderr",
     "output_type": "stream",
     "text": [
      "Using TensorFlow backend.\n",
      "/home/andrea/env/diplomka3/lib/python3.6/site-packages/classification_models/resnext/__init__.py:4: UserWarning: Current ResNext models are deprecated, use keras.applications ResNeXt models\n",
      "  warnings.warn('Current ResNext models are deprecated, '\n"
     ]
    }
   ],
   "source": [
    "import os  \n",
    "import random\n",
    "import cv2\n",
    "import numpy as np\n",
    "from matplotlib import pyplot as plt\n",
    "from segmentation_models.backbones import get_preprocessing\n",
    "from keras import backend as K\n",
    "\n",
    "from classes.model_utils import ModelUtils\n",
    "from classes.image_utils import ImageUtils\n",
    "from classes.process_results import ProcessResults\n",
    "from classes.metrics import Metrics"
   ]
  },
  {
   "cell_type": "markdown",
   "metadata": {},
   "source": [
    "## Initialize"
   ]
  },
  {
   "cell_type": "code",
   "execution_count": 3,
   "metadata": {},
   "outputs": [],
   "source": [
    "val_frame_path = '/home/andrea/learning/vessel_segmentation/custom_train/val_imgs/val'\n",
    "val_mask_path = '/home/andrea/learning/vessel_segmentation/custom_train/val_masks/val'\n",
    "img_height = 640\n",
    "img_width = 640\n",
    "\n",
    "image_ut = ImageUtils(val_frame_path, val_mask_path, img_height, img_width, architecture='unet')"
   ]
  },
  {
   "cell_type": "code",
   "execution_count": 4,
   "metadata": {},
   "outputs": [],
   "source": [
    "from scipy.signal import medfilt2d\n",
    "from skimage import data, color\n",
    "from skimage import measure"
   ]
  },
  {
   "cell_type": "markdown",
   "metadata": {},
   "source": [
    "## Load models"
   ]
  },
  {
   "cell_type": "code",
   "execution_count": 5,
   "metadata": {},
   "outputs": [],
   "source": [
    "prefix = '/home/andrea/learning/vessel_segmentation/result_code/UNET/models/'"
   ]
  },
  {
   "cell_type": "markdown",
   "metadata": {},
   "source": [
    "# Count of epochs"
   ]
  },
  {
   "cell_type": "code",
   "execution_count": 6,
   "metadata": {},
   "outputs": [
    {
     "name": "stdout",
     "output_type": "stream",
     "text": [
      "WARNING:tensorflow:From /home/andrea/env/diplomka3/lib/python3.6/site-packages/tensorflow/python/framework/op_def_library.py:263: colocate_with (from tensorflow.python.framework.ops) is deprecated and will be removed in a future version.\n",
      "Instructions for updating:\n",
      "Colocations handled automatically by placer.\n",
      "Loaded model from disk\n",
      "Loaded model from disk\n",
      "Loaded model from disk\n"
     ]
    }
   ],
   "source": [
    "unet50 = ModelUtils.load_model(os.path.join(prefix, 'model_unet_vessels_pretrainedRESNET18_50noeqa'))\n",
    "unet100 = ModelUtils.load_model(os.path.join(prefix, 'model_unet_vessels_pretrainedRESNET18_100noeqa'))\n",
    "unet150 = ModelUtils.load_model(os.path.join(prefix, 'model_unet_vessels_pretrainedRESNET18_150noeqa'))\n",
    "unet200 = ModelUtils.load_model(os.path.join(prefix, 'model_unet_vessels_pretrainedRESNET18_200noeqa'))"
   ]
  },
  {
   "cell_type": "markdown",
   "metadata": {},
   "source": [
    "### UNET 50"
   ]
  },
  {
   "cell_type": "code",
   "execution_count": 8,
   "metadata": {},
   "outputs": [],
   "source": [
    "process_results_unet50 = ProcessResults()\n",
    "\n",
    "process_results_unet50.predict_images_from_dir(backbone='resnet18', \n",
    "                                               val_frame_path=val_frame_path,\n",
    "                                               val_mask_path=val_mask_path,\n",
    "                                               img_height=img_height,\n",
    "                                               img_width=img_width,\n",
    "                                               model=unet50,\n",
    "                                               preprocess=True)"
   ]
  },
  {
   "cell_type": "code",
   "execution_count": 10,
   "metadata": {},
   "outputs": [],
   "source": [
    "masks_unet50 = [process_results_unet50.tresholding(x) for x in process_results_unet50._masks]\n",
    "\n",
    "filtered_images_unet50 = []\n",
    "for im in process_results_unet50._predicted_imgs:\n",
    "    filt_img = process_results_unet50.med_ext_med_filter(im)\n",
    "    filtered_images_unet50.append(np.squeeze(process_results_unet50.tresholding(filt_img)))"
   ]
  },
  {
   "cell_type": "code",
   "execution_count": 12,
   "metadata": {},
   "outputs": [],
   "source": [
    "sensitivity_unet50 = Metrics.sensitivity(np.array(masks_unet50), np.array(filtered_images_unet50))\n",
    "specifity_unet50 = Metrics.specificity(np.array(masks_unet50), np.array(filtered_images_unet50))\n",
    "dice_unet50 = Metrics.dice_coef(np.array(masks_unet50), np.array(filtered_images_unet50))"
   ]
  },
  {
   "cell_type": "code",
   "execution_count": 14,
   "metadata": {},
   "outputs": [
    {
     "name": "stdout",
     "output_type": "stream",
     "text": [
      "UNET 50 epochs sensitivity: 0.7256452486797836\n",
      "UNET 50 epochs specifity: 0.947264588166359\n",
      "UNET 50 dice coefficient: 0.8246966700679524\n"
     ]
    }
   ],
   "source": [
    "print('UNET 50 epochs sensitivity: {}'. format(sensitivity_unet50))\n",
    "print('UNET 50 epochs specifity: {}'. format(specifity_unet50))\n",
    "print('UNET 50 dice coefficient: {}'. format(np.mean(dice_unet50)))"
   ]
  },
  {
   "cell_type": "markdown",
   "metadata": {},
   "source": [
    "### UNET 100"
   ]
  },
  {
   "cell_type": "code",
   "execution_count": 15,
   "metadata": {},
   "outputs": [],
   "source": [
    "process_results_unet100 = ProcessResults()\n",
    "\n",
    "process_results_unet100.predict_images_from_dir(backbone='resnet18', \n",
    "                                                val_frame_path=val_frame_path,\n",
    "                                                val_mask_path=val_mask_path,\n",
    "                                                img_height=img_height,\n",
    "                                                img_width=img_width,\n",
    "                                                model=unet100,\n",
    "                                                preprocess=True) "
   ]
  },
  {
   "cell_type": "code",
   "execution_count": 16,
   "metadata": {},
   "outputs": [],
   "source": [
    "masks_unet100 = [process_results_unet100.tresholding(x) for x in process_results_unet100._masks]\n",
    "\n",
    "filtered_images_unet100 = []\n",
    "for im in process_results_unet100._predicted_imgs:\n",
    "    filt_img = process_results_unet100.med_ext_med_filter(im)\n",
    "    filtered_images_unet100.append(np.squeeze(process_results_unet100.tresholding(filt_img)))"
   ]
  },
  {
   "cell_type": "code",
   "execution_count": 17,
   "metadata": {},
   "outputs": [],
   "source": [
    "sensitivity_unet100 = Metrics.sensitivity(np.array(masks_unet100), np.array(filtered_images_unet100))\n",
    "specifity_unet100 = Metrics.specificity(np.array(masks_unet100), np.array(filtered_images_unet100))\n",
    "dice_unet100 = Metrics.dice_coef(np.array(masks_unet100), np.array(filtered_images_unet100))"
   ]
  },
  {
   "cell_type": "code",
   "execution_count": 19,
   "metadata": {},
   "outputs": [
    {
     "name": "stdout",
     "output_type": "stream",
     "text": [
      "UNET 50 epochs sensitivity: 0.5623659364991705\n",
      "UNET 50 epochs specifity: 0.43099565351054675\n",
      "UNET 50 dice coefficient: 0.3105336832740007\n"
     ]
    }
   ],
   "source": [
    "print('UNET 100 epochs sensitivity: {}'. format(sensitivity_unet100))\n",
    "print('UNET 100 epochs specifity: {}'. format(specifity_unet100))\n",
    "print('UNET 100 dice coefficient: {}'. format(np.mean(dice_unet100)))"
   ]
  },
  {
   "cell_type": "markdown",
   "metadata": {},
   "source": [
    "### UNET 150"
   ]
  },
  {
   "cell_type": "code",
   "execution_count": 20,
   "metadata": {},
   "outputs": [],
   "source": [
    "process_results_unet150 = ProcessResults()\n",
    "\n",
    "process_results_unet150.predict_images_from_dir(backbone='resnet18', \n",
    "                                                val_frame_path=val_frame_path,\n",
    "                                                val_mask_path=val_mask_path,\n",
    "                                                img_height=img_height,\n",
    "                                                img_width=img_width,\n",
    "                                                model=unet150,\n",
    "                                                preprocess=True) "
   ]
  },
  {
   "cell_type": "code",
   "execution_count": 22,
   "metadata": {},
   "outputs": [],
   "source": [
    "masks_unet150 = [process_results_unet150.tresholding(x) for x in process_results_unet150._masks]\n",
    "\n",
    "filtered_images_unet150 = []\n",
    "for im in process_results_unet150._predicted_imgs:\n",
    "    filt_img = process_results_unet150.med_ext_med_filter(im)\n",
    "    filtered_images_unet150.append(np.squeeze(process_results_unet150.tresholding(filt_img)))"
   ]
  },
  {
   "cell_type": "code",
   "execution_count": 23,
   "metadata": {},
   "outputs": [],
   "source": [
    "sensitivity_unet150 = Metrics.sensitivity(np.array(masks_unet150), np.array(filtered_images_unet150))\n",
    "specifity_unet150 = Metrics.specificity(np.array(masks_unet150), np.array(filtered_images_unet150))\n",
    "dice_unet150 = Metrics.dice_coef(np.array(masks_unet150), np.array(filtered_images_unet150))"
   ]
  },
  {
   "cell_type": "code",
   "execution_count": 24,
   "metadata": {},
   "outputs": [
    {
     "name": "stdout",
     "output_type": "stream",
     "text": [
      "UNET 150 epochs sensitivity: 0.7277577051039898\n",
      "UNET 150 epochs specifity: 0.949058093711381\n",
      "UNET 150 dice coefficient: 0.8201791771345751\n"
     ]
    }
   ],
   "source": [
    "print('UNET 150 epochs sensitivity: {}'. format(sensitivity_unet150))\n",
    "print('UNET 150 epochs specifity: {}'. format(specifity_unet150))\n",
    "print('UNET 150 dice coefficient: {}'. format(np.mean(dice_unet150)))"
   ]
  },
  {
   "cell_type": "code",
   "execution_count": null,
   "metadata": {},
   "outputs": [],
   "source": []
  },
  {
   "cell_type": "code",
   "execution_count": null,
   "metadata": {},
   "outputs": [],
   "source": []
  },
  {
   "cell_type": "code",
   "execution_count": null,
   "metadata": {},
   "outputs": [],
   "source": []
  },
  {
   "cell_type": "code",
   "execution_count": null,
   "metadata": {},
   "outputs": [],
   "source": []
  },
  {
   "cell_type": "code",
   "execution_count": null,
   "metadata": {},
   "outputs": [],
   "source": []
  },
  {
   "cell_type": "code",
   "execution_count": null,
   "metadata": {},
   "outputs": [],
   "source": []
  },
  {
   "cell_type": "code",
   "execution_count": null,
   "metadata": {},
   "outputs": [],
   "source": [
    "linknet_resnet_100 =  ModelUtils.load_model(os.path.join(prefix, 'model_linknet_disk_pretrainedRESNET18_100noeqa'))\n",
    "linknet_resnet_150 =  ModelUtils.load_model(os.path.join(prefix, '/model_linknet_disk_pretrainedRESNET18_150noeqa'))\n",
    "linknet_resnet31_100 =  ModelUtils.load_model(os.path.join(prefix, '/model_linknet_disk_pretrainedRESNET31_100noeqa'))\n",
    "linknet_vgg19_100 =  ModelUtils.load_model(os.path.join(prefix, '/model_linknet_disk_pretrainedVGG_100noeqa'))\n",
    "psp_resnet18_100 =  ModelUtils.load_model(os.path.join(prefix, 'model_pspnet_disk_pretrainedRESNET18_100noeqa'))\n",
    "psp_resnet18_100SGD =  ModelUtils.load_model(os.path.join(prefix, 'model_pspnet_disk_pretrainedRESNET18_SGD100noeqa'))\n",
    "unet_resnet18_100 =  ModelUtils.load_model(os.path.join(prefix, 'model_unet_disk_pretrainedRESNET18_100noeqa'))\n",
    "unet_resnet18_200 =  ModelUtils.load_model(os.path.join(prefix, 'model_unet_disk_pretrainedRESNET18_200noeqa'))\n",
    "unet_resnet34_200 =  ModelUtils.load_model(os.path.join(prefix, 'model_unet_disk_pretrainedRESNET34_200noeqa'))"
   ]
  },
  {
   "cell_type": "markdown",
   "metadata": {},
   "source": [
    "## PSP"
   ]
  },
  {
   "cell_type": "code",
   "execution_count": null,
   "metadata": {},
   "outputs": [],
   "source": [
    "process_results_pspnet = ProcessResults()\n",
    "\n",
    "process_results_pspnet.predict_images(backbone='resnet18', \n",
    "                                      val_frame_path=val_frame_path,\n",
    "                                      val_mask_path=val_mask_path,\n",
    "                                      img_height=img_height,\n",
    "                                      img_width=img_width,\n",
    "                                      model=psp_resnet18_100,\n",
    "                                      preprocess=True)"
   ]
  },
  {
   "cell_type": "code",
   "execution_count": null,
   "metadata": {},
   "outputs": [],
   "source": [
    "masks_psp = process_results_pspnet.tresholdibg(process_results_pspnet._masks)\n",
    "\n",
    "filtered_images_psp = []\n",
    "for im in process_results_pspnet._predicted_imgs:\n",
    "    filt_img = process_results_pspnet.med_ext_med_filter(im)\n",
    "    filtered_images_psp.append(np.squeeze(process_results_pspnet.tresholding(filt_img)))"
   ]
  },
  {
   "cell_type": "code",
   "execution_count": null,
   "metadata": {},
   "outputs": [],
   "source": [
    "sensitivity_psp = Metrics.sensitivity(np.array(masks_psp), np.array(filtered_images_psp))\n",
    "specifity_psp = Metrics.specificity(np.array(masks_psp), np.array(filtered_images_psp))\n",
    "dice_psp = Metrics.dice_coef(np.array(np.array(masks_psp), np.array(filtered_images_psp))"
   ]
  },
  {
   "cell_type": "code",
   "execution_count": null,
   "metadata": {},
   "outputs": [],
   "source": [
    "print('PSP sensitivity: {}'. format(sensitivity_psp))\n",
    "print('PSP specifity: {}'. format(specifity_psp))\n",
    "print('PSP dice coefficient: {}'. format(dice_psp))"
   ]
  },
  {
   "cell_type": "markdown",
   "metadata": {},
   "source": [
    "## Linknet"
   ]
  },
  {
   "cell_type": "code",
   "execution_count": null,
   "metadata": {},
   "outputs": [],
   "source": [
    "process_results_linknet = ProcessResults()\n",
    "\n",
    "process_results_linknet.predict_images(backbone='resnet18', \n",
    "                                       val_frame_path=val_frame_path,\n",
    "                                       val_mask_path=val_mask_path, \n",
    "                                       img_height=img_height, \n",
    "                                       img_width=img_width, \n",
    "                                       model=linknet_resnet_100, \n",
    "                                       preprocess=True)"
   ]
  },
  {
   "cell_type": "code",
   "execution_count": null,
   "metadata": {},
   "outputs": [],
   "source": [
    "masks_link = process_results_linknet.tresholdibg(process_results_linknet._masks)\n",
    "\n",
    "filtered_images_link = []\n",
    "for im in process_results_linknet._predicted_imgs:\n",
    "    filt_img = process_results_linknet.med_ext_med_filter(im)\n",
    "    filtered_images_link.append(np.squeeze(process_results_linknet.tresholding(filt_img)))"
   ]
  },
  {
   "cell_type": "code",
   "execution_count": null,
   "metadata": {},
   "outputs": [],
   "source": [
    "sensitivity_link = Metrics.sensitivity(np.array(masks_link), np.array(filtered_images_link))\n",
    "specifity_link = Metrics.specificity(np.array(masks_link), np.array(filtered_images_link))\n",
    "dice_link = Metrics.dice_coef(np.array(np.array(masks_link), np.array(filtered_images_link))"
   ]
  },
  {
   "cell_type": "code",
   "execution_count": null,
   "metadata": {},
   "outputs": [],
   "source": [
    "print('LinkNet sensitivity: {}'. format(sensitivity_link))\n",
    "print('LinkNet specifity: {}'. format(specifity_link))\n",
    "print('LinkNet dice coefficient: {}'. format(dice_link))"
   ]
  },
  {
   "cell_type": "markdown",
   "metadata": {},
   "source": [
    "## Unet"
   ]
  },
  {
   "cell_type": "code",
   "execution_count": null,
   "metadata": {},
   "outputs": [],
   "source": [
    "￼process_results_unet = ProcessResults()\n",
    "\n",
    "process_results_unet.predict_images(backbone='resnet18',  \n",
    "                                    val_frame_path=val_frame_path,\n",
    "                                    val_mask_path=val_mask_path,\n",
    "                                    img_height=img_height,\n",
    "                                    img_width=img_width,\n",
    "                                    model=unet_resnet18_100,\n",
    "                                    preprocess=True)"
   ]
  },
  {
   "cell_type": "code",
   "execution_count": null,
   "metadata": {},
   "outputs": [],
   "source": [
    "masks_unet = process_results_unet.tresholdibg(process_results_unet._masks)\n",
    "\n",
    "filtered_images_unet = []\n",
    "for im in process_results_unet._predicted_imgs:\n",
    "    filt_img = process_results_unet.med_ext_med_filter(im)\n",
    "    filtered_images_unet.append(np.squeeze(process_results_unet.tresholding(filt_img)))"
   ]
  },
  {
   "cell_type": "code",
   "execution_count": null,
   "metadata": {},
   "outputs": [],
   "source": [
    "sensitivity_unet = Metrics.sensitivity(np.array(masks_unet), np.array(filtered_images_unet))\n",
    "specifity_unet = Metrics.specificity(np.array(masks_unet), np.array(filtered_images_unet))\n",
    "dice_unet = Metrics.dice_coef(np.array(np.array(masks_unet), np.array(filtered_images_unet))"
   ]
  },
  {
   "cell_type": "code",
   "execution_count": null,
   "metadata": {},
   "outputs": [],
   "source": [
    "print('Unet sensitivity: {}'. format(sensitivity_unet))\n",
    "print('Unet specifity: {}'. format(specifity_unet))\n",
    "print('Unet dice coefficient: {}'. format(dice_unet))"
   ]
  }
 ],
 "metadata": {
  "kernelspec": {
   "display_name": "Aja3",
   "language": "python",
   "name": "aja3"
  },
  "language_info": {
   "codemirror_mode": {
    "name": "ipython",
    "version": 3
   },
   "file_extension": ".py",
   "mimetype": "text/x-python",
   "name": "python",
   "nbconvert_exporter": "python",
   "pygments_lexer": "ipython3",
   "version": "3.6.8"
  }
 },
 "nbformat": 4,
 "nbformat_minor": 2
}
