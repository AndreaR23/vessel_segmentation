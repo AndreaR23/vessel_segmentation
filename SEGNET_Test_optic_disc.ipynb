{
 "cells": [
  {
   "cell_type": "code",
   "execution_count": 1,
   "metadata": {},
   "outputs": [
    {
     "name": "stderr",
     "output_type": "stream",
     "text": [
      "Using TensorFlow backend.\n"
     ]
    }
   ],
   "source": [
    "from keras import models\n",
    "from keras.layers.core import Activation, Reshape, Permute\n",
    "from keras.layers.convolutional import Convolution2D, MaxPooling2D, UpSampling2D\n",
    "from keras.layers.normalization import BatchNormalization\n",
    "from keras.callbacks import EarlyStopping, ModelCheckpoint\n",
    "\n",
    "from unet_project.image_utils import ImageUtils\n",
    "from unet_project.data_augmentation import DataAugmentation\n",
    "from unet_project.segnet import SegNet\n",
    "from unet_project.create_patches import PatchesCreator\n",
    "import cv2\n",
    "import numpy as np\n",
    "from tqdm import tqdm_notebook"
   ]
  },
  {
   "cell_type": "code",
   "execution_count": 2,
   "metadata": {},
   "outputs": [],
   "source": [
    "path_to_imgs = '/home/ajuska/Dokumenty/Skola/diplomka/disk_data/imgs/'\n",
    "path_to_masks = '/home/ajuska/Dokumenty/Skola/diplomka/disk_data/masks/'\n",
    "img_height = 320\n",
    "img_width = 320\n",
    "n_labels = 1\n",
    "kernel = 3\n",
    "img_channels = 1"
   ]
  },
  {
   "cell_type": "code",
   "execution_count": 3,
   "metadata": {},
   "outputs": [
    {
     "name": "stderr",
     "output_type": "stream",
     "text": [
      "  2%|▏         | 3/186 [00:00<00:06, 26.99it/s]"
     ]
    },
    {
     "name": "stdout",
     "output_type": "stream",
     "text": [
      "Loading images.\n"
     ]
    },
    {
     "name": "stderr",
     "output_type": "stream",
     "text": [
      "100%|██████████| 186/186 [00:03<00:00, 59.27it/s]\n"
     ]
    },
    {
     "name": "stdout",
     "output_type": "stream",
     "text": [
      "\n",
      "Loading masks.\n"
     ]
    },
    {
     "name": "stderr",
     "output_type": "stream",
     "text": [
      "100%|██████████| 186/186 [00:00<00:00, 349056.17it/s]"
     ]
    },
    {
     "name": "stdout",
     "output_type": "stream",
     "text": [
      "\n",
      "Preprocessing images.\n"
     ]
    },
    {
     "name": "stderr",
     "output_type": "stream",
     "text": [
      "\n"
     ]
    },
    {
     "data": {
      "application/vnd.jupyter.widget-view+json": {
       "model_id": "1a373abc39b1407cbd6315bf274f2fe4",
       "version_major": 2,
       "version_minor": 0
      },
      "text/plain": [
       "HBox(children=(IntProgress(value=0, max=186), HTML(value='')))"
      ]
     },
     "metadata": {},
     "output_type": "display_data"
    },
    {
     "name": "stdout",
     "output_type": "stream",
     "text": [
      "\n"
     ]
    }
   ],
   "source": [
    "image_utils = ImageUtils(path_to_imgs, path_to_masks, img_height, img_width)\n",
    "imgs_masks = image_utils.get_preprocessed_images()\n",
    "\n",
    "# data_augmentor = DataAugmentation(imgs_masks, how_many=1)\n",
    "# aug_imgs, aug_masks = data_augmentor.extend_database()\n",
    "\n",
    "imgs = []\n",
    "masks = []\n",
    "for key, val in tqdm_notebook(imgs_masks.items()):\n",
    "    imgs.append(val[0])\n",
    "    masks.append(val[1])\n",
    "\n",
    "trainX = [cv2.resize(x, (img_height, img_width)) for x in imgs]\n",
    "trainY = [cv2.resize(x, (img_height, img_width)) for x in masks]"
   ]
  },
  {
   "cell_type": "code",
   "execution_count": 4,
   "metadata": {},
   "outputs": [],
   "source": [
    "trainX = np.array([cv2.cvtColor(x.astype(np.uint8), cv2.COLOR_BGR2GRAY) for x in trainX])\n",
    "trainX = np.array([np.expand_dims(x/255, axis=-1) for x in trainX])"
   ]
  },
  {
   "cell_type": "code",
   "execution_count": 5,
   "metadata": {},
   "outputs": [],
   "source": [
    "trainY = np.reshape(trainY,(len(trainY),img_height*img_width,img_channels))"
   ]
  },
  {
   "cell_type": "code",
   "execution_count": 5,
   "metadata": {},
   "outputs": [],
   "source": [
    "# # trainX = np.array([np.expand_dims(x/255, axis=-1) for x in trainX])\n",
    "# trainX = np.array([np.expand_dims(x/255, axis=-1) for x in trainX])\n",
    "\n",
    "# # trainX = np.array([x/255 for x in trainX])\n",
    "# trainY = np.array([x/255 for x in trainY])"
   ]
  },
  {
   "cell_type": "code",
   "execution_count": 6,
   "metadata": {},
   "outputs": [
    {
     "data": {
      "text/plain": [
       "(186, 320, 320, 1)"
      ]
     },
     "execution_count": 6,
     "metadata": {},
     "output_type": "execute_result"
    }
   ],
   "source": [
    "trainX.shape"
   ]
  },
  {
   "cell_type": "code",
   "execution_count": 7,
   "metadata": {},
   "outputs": [
    {
     "data": {
      "text/plain": [
       "(186, 102400, 1)"
      ]
     },
     "execution_count": 7,
     "metadata": {},
     "output_type": "execute_result"
    }
   ],
   "source": [
    "trainY.shape"
   ]
  },
  {
   "cell_type": "code",
   "execution_count": 8,
   "metadata": {
    "scrolled": true
   },
   "outputs": [
    {
     "name": "stdout",
     "output_type": "stream",
     "text": [
      "_________________________________________________________________\n",
      "Layer (type)                 Output Shape              Param #   \n",
      "=================================================================\n",
      "conv2d_1 (Conv2D)            (None, 320, 320, 64)      640       \n",
      "_________________________________________________________________\n",
      "batch_normalization_1 (Batch (None, 320, 320, 64)      256       \n",
      "_________________________________________________________________\n",
      "activation_1 (Activation)    (None, 320, 320, 64)      0         \n",
      "_________________________________________________________________\n",
      "conv2d_2 (Conv2D)            (None, 320, 320, 64)      36928     \n",
      "_________________________________________________________________\n",
      "batch_normalization_2 (Batch (None, 320, 320, 64)      256       \n",
      "_________________________________________________________________\n",
      "activation_2 (Activation)    (None, 320, 320, 64)      0         \n",
      "_________________________________________________________________\n",
      "max_pooling2d_1 (MaxPooling2 (None, 160, 160, 64)      0         \n",
      "_________________________________________________________________\n",
      "conv2d_3 (Conv2D)            (None, 160, 160, 128)     73856     \n",
      "_________________________________________________________________\n",
      "batch_normalization_3 (Batch (None, 160, 160, 128)     512       \n",
      "_________________________________________________________________\n",
      "activation_3 (Activation)    (None, 160, 160, 128)     0         \n",
      "_________________________________________________________________\n",
      "conv2d_4 (Conv2D)            (None, 160, 160, 128)     147584    \n",
      "_________________________________________________________________\n",
      "batch_normalization_4 (Batch (None, 160, 160, 128)     512       \n",
      "_________________________________________________________________\n",
      "activation_4 (Activation)    (None, 160, 160, 128)     0         \n",
      "_________________________________________________________________\n",
      "max_pooling2d_2 (MaxPooling2 (None, 80, 80, 128)       0         \n",
      "_________________________________________________________________\n",
      "conv2d_5 (Conv2D)            (None, 80, 80, 256)       295168    \n",
      "_________________________________________________________________\n",
      "batch_normalization_5 (Batch (None, 80, 80, 256)       1024      \n",
      "_________________________________________________________________\n",
      "activation_5 (Activation)    (None, 80, 80, 256)       0         \n",
      "_________________________________________________________________\n",
      "conv2d_6 (Conv2D)            (None, 80, 80, 256)       590080    \n",
      "_________________________________________________________________\n",
      "batch_normalization_6 (Batch (None, 80, 80, 256)       1024      \n",
      "_________________________________________________________________\n",
      "activation_6 (Activation)    (None, 80, 80, 256)       0         \n",
      "_________________________________________________________________\n",
      "conv2d_7 (Conv2D)            (None, 80, 80, 256)       590080    \n",
      "_________________________________________________________________\n",
      "batch_normalization_7 (Batch (None, 80, 80, 256)       1024      \n",
      "_________________________________________________________________\n",
      "activation_7 (Activation)    (None, 80, 80, 256)       0         \n",
      "_________________________________________________________________\n",
      "max_pooling2d_3 (MaxPooling2 (None, 40, 40, 256)       0         \n",
      "_________________________________________________________________\n",
      "conv2d_8 (Conv2D)            (None, 40, 40, 512)       1180160   \n",
      "_________________________________________________________________\n",
      "batch_normalization_8 (Batch (None, 40, 40, 512)       2048      \n",
      "_________________________________________________________________\n",
      "activation_8 (Activation)    (None, 40, 40, 512)       0         \n",
      "_________________________________________________________________\n",
      "conv2d_9 (Conv2D)            (None, 40, 40, 512)       2359808   \n",
      "_________________________________________________________________\n",
      "batch_normalization_9 (Batch (None, 40, 40, 512)       2048      \n",
      "_________________________________________________________________\n",
      "activation_9 (Activation)    (None, 40, 40, 512)       0         \n",
      "_________________________________________________________________\n",
      "conv2d_10 (Conv2D)           (None, 40, 40, 512)       2359808   \n",
      "_________________________________________________________________\n",
      "batch_normalization_10 (Batc (None, 40, 40, 512)       2048      \n",
      "_________________________________________________________________\n",
      "activation_10 (Activation)   (None, 40, 40, 512)       0         \n",
      "_________________________________________________________________\n",
      "max_pooling2d_4 (MaxPooling2 (None, 20, 20, 512)       0         \n",
      "_________________________________________________________________\n",
      "conv2d_11 (Conv2D)           (None, 20, 20, 512)       2359808   \n",
      "_________________________________________________________________\n",
      "batch_normalization_11 (Batc (None, 20, 20, 512)       2048      \n",
      "_________________________________________________________________\n",
      "activation_11 (Activation)   (None, 20, 20, 512)       0         \n",
      "_________________________________________________________________\n",
      "conv2d_12 (Conv2D)           (None, 20, 20, 512)       2359808   \n",
      "_________________________________________________________________\n",
      "batch_normalization_12 (Batc (None, 20, 20, 512)       2048      \n",
      "_________________________________________________________________\n",
      "activation_12 (Activation)   (None, 20, 20, 512)       0         \n",
      "_________________________________________________________________\n",
      "conv2d_13 (Conv2D)           (None, 20, 20, 512)       2359808   \n",
      "_________________________________________________________________\n",
      "batch_normalization_13 (Batc (None, 20, 20, 512)       2048      \n",
      "_________________________________________________________________\n",
      "activation_13 (Activation)   (None, 20, 20, 512)       0         \n",
      "_________________________________________________________________\n",
      "max_pooling2d_5 (MaxPooling2 (None, 10, 10, 512)       0         \n",
      "_________________________________________________________________\n",
      "up_sampling2d_1 (UpSampling2 (None, 20, 20, 512)       0         \n",
      "_________________________________________________________________\n",
      "conv2d_14 (Conv2D)           (None, 20, 20, 512)       2359808   \n",
      "_________________________________________________________________\n",
      "batch_normalization_14 (Batc (None, 20, 20, 512)       2048      \n",
      "_________________________________________________________________\n",
      "activation_14 (Activation)   (None, 20, 20, 512)       0         \n",
      "_________________________________________________________________\n",
      "conv2d_15 (Conv2D)           (None, 20, 20, 512)       2359808   \n",
      "_________________________________________________________________\n",
      "batch_normalization_15 (Batc (None, 20, 20, 512)       2048      \n",
      "_________________________________________________________________\n",
      "activation_15 (Activation)   (None, 20, 20, 512)       0         \n",
      "_________________________________________________________________\n",
      "conv2d_16 (Conv2D)           (None, 20, 20, 512)       2359808   \n",
      "_________________________________________________________________\n",
      "batch_normalization_16 (Batc (None, 20, 20, 512)       2048      \n",
      "_________________________________________________________________\n",
      "activation_16 (Activation)   (None, 20, 20, 512)       0         \n",
      "_________________________________________________________________\n",
      "up_sampling2d_2 (UpSampling2 (None, 40, 40, 512)       0         \n",
      "_________________________________________________________________\n",
      "conv2d_17 (Conv2D)           (None, 40, 40, 512)       2359808   \n",
      "_________________________________________________________________\n",
      "batch_normalization_17 (Batc (None, 40, 40, 512)       2048      \n",
      "_________________________________________________________________\n",
      "activation_17 (Activation)   (None, 40, 40, 512)       0         \n",
      "_________________________________________________________________\n",
      "conv2d_18 (Conv2D)           (None, 40, 40, 512)       2359808   \n",
      "_________________________________________________________________\n",
      "batch_normalization_18 (Batc (None, 40, 40, 512)       2048      \n",
      "_________________________________________________________________\n",
      "activation_18 (Activation)   (None, 40, 40, 512)       0         \n",
      "_________________________________________________________________\n",
      "conv2d_19 (Conv2D)           (None, 40, 40, 256)       1179904   \n",
      "_________________________________________________________________\n",
      "batch_normalization_19 (Batc (None, 40, 40, 256)       1024      \n",
      "_________________________________________________________________\n",
      "activation_19 (Activation)   (None, 40, 40, 256)       0         \n",
      "_________________________________________________________________\n",
      "up_sampling2d_3 (UpSampling2 (None, 80, 80, 256)       0         \n",
      "_________________________________________________________________\n",
      "conv2d_20 (Conv2D)           (None, 80, 80, 256)       590080    \n",
      "_________________________________________________________________\n",
      "batch_normalization_20 (Batc (None, 80, 80, 256)       1024      \n",
      "_________________________________________________________________\n",
      "activation_20 (Activation)   (None, 80, 80, 256)       0         \n",
      "_________________________________________________________________\n",
      "conv2d_21 (Conv2D)           (None, 80, 80, 256)       590080    \n",
      "_________________________________________________________________\n",
      "batch_normalization_21 (Batc (None, 80, 80, 256)       1024      \n",
      "_________________________________________________________________\n",
      "activation_21 (Activation)   (None, 80, 80, 256)       0         \n",
      "_________________________________________________________________\n",
      "conv2d_22 (Conv2D)           (None, 80, 80, 128)       295040    \n",
      "_________________________________________________________________\n",
      "batch_normalization_22 (Batc (None, 80, 80, 128)       512       \n",
      "_________________________________________________________________\n",
      "activation_22 (Activation)   (None, 80, 80, 128)       0         \n",
      "_________________________________________________________________\n",
      "up_sampling2d_4 (UpSampling2 (None, 160, 160, 128)     0         \n",
      "_________________________________________________________________\n",
      "conv2d_23 (Conv2D)           (None, 160, 160, 128)     147584    \n",
      "_________________________________________________________________\n",
      "batch_normalization_23 (Batc (None, 160, 160, 128)     512       \n",
      "_________________________________________________________________\n",
      "activation_23 (Activation)   (None, 160, 160, 128)     0         \n",
      "_________________________________________________________________\n",
      "conv2d_24 (Conv2D)           (None, 160, 160, 64)      73792     \n",
      "_________________________________________________________________\n",
      "batch_normalization_24 (Batc (None, 160, 160, 64)      256       \n",
      "_________________________________________________________________\n",
      "activation_24 (Activation)   (None, 160, 160, 64)      0         \n",
      "_________________________________________________________________\n",
      "up_sampling2d_5 (UpSampling2 (None, 320, 320, 64)      0         \n",
      "_________________________________________________________________\n",
      "conv2d_25 (Conv2D)           (None, 320, 320, 64)      36928     \n",
      "_________________________________________________________________\n",
      "batch_normalization_25 (Batc (None, 320, 320, 64)      256       \n",
      "_________________________________________________________________\n",
      "activation_25 (Activation)   (None, 320, 320, 64)      0         \n",
      "_________________________________________________________________\n",
      "conv2d_26 (Conv2D)           (None, 320, 320, 1)       65        \n",
      "_________________________________________________________________\n",
      "batch_normalization_26 (Batc (None, 320, 320, 1)       4         \n",
      "_________________________________________________________________\n",
      "reshape_1 (Reshape)          (None, 1, 102400)         0         \n",
      "_________________________________________________________________\n",
      "permute_1 (Permute)          (None, 102400, 1)         0         \n",
      "_________________________________________________________________\n",
      "activation_26 (Activation)   (None, 102400, 1)         0         \n",
      "=================================================================\n",
      "Total params: 29,457,797\n",
      "Trainable params: 29,441,923\n",
      "Non-trainable params: 15,874\n",
      "_________________________________________________________________\n"
     ]
    }
   ],
   "source": [
    "segnet = SegNet(img_height=img_height, img_width=img_width, img_channels=img_channels, \n",
    "                number_labels=n_labels, kernel_size=kernel)\n",
    "model = segnet.create_model()"
   ]
  },
  {
   "cell_type": "code",
   "execution_count": null,
   "metadata": {},
   "outputs": [
    {
     "name": "stdout",
     "output_type": "stream",
     "text": [
      "Train on 167 samples, validate on 19 samples\n",
      "Epoch 1/50\n"
     ]
    }
   ],
   "source": [
    "earlystopper = EarlyStopping(patience=5, verbose=1)\n",
    "checkpointer = ModelCheckpoint('model-test.h5', verbose=1, save_best_only=True)\n",
    "results = model.fit(trainX, trainY, validation_split=0.1, batch_size=32, epochs=50, verbose=1,\n",
    "                    callbacks=[earlystopper, checkpointer])"
   ]
  },
  {
   "cell_type": "code",
   "execution_count": null,
   "metadata": {},
   "outputs": [],
   "source": [
    "history = autoencoder.fit(train_data, train_label, batch_size=batch_size, nb_epoch=nb_epoch, verbose=1)"
   ]
  },
  {
   "cell_type": "code",
   "execution_count": null,
   "metadata": {},
   "outputs": [],
   "source": [
    "with open('model_5l_segnet.json', 'w') as outfile:\n",
    "    outfile.write(json.dumps(json.loads(autoencoder.to_json()), indent=2))"
   ]
  },
  {
   "cell_type": "code",
   "execution_count": 11,
   "metadata": {},
   "outputs": [],
   "source": [
    "with open('model_5l_segnet.json') as model_file:\n",
    "    autoencoder = models.model_from_json(model_file.read())"
   ]
  },
  {
   "cell_type": "code",
   "execution_count": 13,
   "metadata": {},
   "outputs": [],
   "source": [
    "from keras import models\n",
    "from keras.optimizers import SGD"
   ]
  },
  {
   "cell_type": "code",
   "execution_count": 14,
   "metadata": {},
   "outputs": [
    {
     "name": "stdout",
     "output_type": "stream",
     "text": [
      "Compiled: OK\n"
     ]
    }
   ],
   "source": [
    "optimizer = SGD(lr=0.001, momentum=0.9, decay=0.0005, nesterov=False)\n",
    "autoencoder.compile(loss=\"categorical_crossentropy\", optimizer=optimizer, metrics=['accuracy'])\n",
    "print('Compiled: OK')"
   ]
  },
  {
   "cell_type": "code",
   "execution_count": null,
   "metadata": {},
   "outputs": [],
   "source": []
  }
 ],
 "metadata": {
  "kernelspec": {
   "display_name": "Python 3",
   "language": "python",
   "name": "python3"
  },
  "language_info": {
   "codemirror_mode": {
    "name": "ipython",
    "version": 3
   },
   "file_extension": ".py",
   "mimetype": "text/x-python",
   "name": "python",
   "nbconvert_exporter": "python",
   "pygments_lexer": "ipython3",
   "version": "3.5.2"
  }
 },
 "nbformat": 4,
 "nbformat_minor": 2
}
